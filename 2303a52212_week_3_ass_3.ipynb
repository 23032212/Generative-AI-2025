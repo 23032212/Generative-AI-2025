{
  "nbformat": 4,
  "nbformat_minor": 0,
  "metadata": {
    "colab": {
      "provenance": [],
      "authorship_tag": "ABX9TyNxo9XzcLS9nm/cjsNhwwdX",
      "include_colab_link": true
    },
    "kernelspec": {
      "name": "python3",
      "display_name": "Python 3"
    },
    "language_info": {
      "name": "python"
    }
  },
  "cells": [
    {
      "cell_type": "markdown",
      "metadata": {
        "id": "view-in-github",
        "colab_type": "text"
      },
      "source": [
        "<a href=\"https://colab.research.google.com/github/23032212/Generative-AI-2025/blob/main/2303a52212_week_3_ass_3.ipynb\" target=\"_parent\"><img src=\"https://colab.research.google.com/assets/colab-badge.svg\" alt=\"Open In Colab\"/></a>"
      ]
    },
    {
      "cell_type": "markdown",
      "source": [
        "1. (1 ponto) Write Python code without using any libraries to find the value of x at which the\n",
        "function f(x) shown in equation (1) has minimum value. Consider Gradient Descent Algorithm f (x) = 5x4 + 3x2 + 10"
      ],
      "metadata": {
        "id": "K2JWApc1D9Ug"
      }
    },
    {
      "cell_type": "code",
      "execution_count": null,
      "metadata": {
        "colab": {
          "base_uri": "https://localhost:8080/"
        },
        "id": "nBYDV5nKBfTI",
        "outputId": "0028955f-c0d0-4be8-c8da-a8df9d452cd2"
      },
      "outputs": [
        {
          "output_type": "stream",
          "name": "stdout",
          "text": [
            "Minimum value of f(x) occurs at x = 0.0\n"
          ]
        }
      ],
      "source": [
        "def gradient_descent_1d(alpha=0.01, epsilon=1e-6, max_iter=10000):\n",
        "    def f_prime(x):\n",
        "        return 20 * x**3 + 6 * x  # Derivative of f(x)\n",
        "\n",
        "    x = 0.0  # Initial guess\n",
        "    for _ in range(max_iter):\n",
        "        grad = f_prime(x)\n",
        "        if abs(grad) < epsilon:\n",
        "            break\n",
        "        x -= alpha * grad\n",
        "    return x\n",
        "\n",
        "x_min = gradient_descent_1d()\n",
        "print(f\"Minimum value of f(x) occurs at x = {x_min}\")\n",
        "\n"
      ]
    },
    {
      "cell_type": "markdown",
      "source": [
        "2. (1 ponto) Write Python code without using any libraries to find the value of x and y at which the\n",
        "function g(x,y) shown in equation (2) has minimum value. Consider Gradient Descent Algorithm.\n",
        "f (x) = 3x2 + 5e−y + 10"
      ],
      "metadata": {
        "id": "CWRrbkYzEGYx"
      }
    },
    {
      "cell_type": "code",
      "source": [
        "def gradient_descent_2d(alpha=0.01, epsilon=1e-6, max_iter=10000):\n",
        "    def f_prime_x(x):\n",
        "        return 6 * x  # Partial derivative with respect to x\n",
        "\n",
        "    def f_prime_y(y):\n",
        "        return -5 * (2.718281828459045 ** (-y))  # Partial derivative with respect to y\n",
        "\n",
        "    x, y = 0.0, 0.0  # Initial guesses\n",
        "    for _ in range(max_iter):\n",
        "        grad_x = f_prime_x(x)\n",
        "        grad_y = f_prime_y(y)\n",
        "        if abs(grad_x) < epsilon and abs(grad_y) < epsilon:\n",
        "            break\n",
        "        x -= alpha * grad_x\n",
        "        y -= alpha * grad_y\n",
        "    return x, y\n",
        "\n",
        "x_min, y_min = gradient_descent_2d()\n",
        "print(f\"Minimum value of g(x, y) occurs at x = {x_min}, y = {y_min}\")\n",
        "\n"
      ],
      "metadata": {
        "colab": {
          "base_uri": "https://localhost:8080/"
        },
        "id": "6s-b3RjYEktI",
        "outputId": "072d8bc1-dc19-474c-b880-d1c979caf389"
      },
      "execution_count": null,
      "outputs": [
        {
          "output_type": "stream",
          "name": "stdout",
          "text": [
            "Minimum value of g(x, y) occurs at x = 0.0, y = 6.216917124174048\n"
          ]
        }
      ]
    },
    {
      "cell_type": "markdown",
      "source": [
        "3. (1 ponto) Write Python code without using any libraries to find the value of x at which the\n",
        "sigmoid function z(x) shown in equation (3) has minimum value. Consider Gradient Descent\n",
        "Algorithm.\n",
        "z(x) = 1\n",
        "1 + e−x"
      ],
      "metadata": {
        "id": "W2s3D6M2Et0y"
      }
    },
    {
      "cell_type": "code",
      "source": [
        "def gradient_descent_sigmoid(alpha=0.01, epsilon=1e-6, max_iter=10000):\n",
        "    def z_prime(x):\n",
        "        exp_neg_x = 2.718281828459045 ** (-x)\n",
        "        return -exp_neg_x / ((1 + exp_neg_x) ** 2)  # Derivative of sigmoid function\n",
        "\n",
        "    x = 0.0  # Initial guess\n",
        "    for _ in range(max_iter):\n",
        "        grad = z_prime(x)\n",
        "        if abs(grad) < epsilon:\n",
        "            break\n",
        "        x -= alpha * grad\n",
        "    return x\n",
        "\n",
        "x_min_sigmoid = gradient_descent_sigmoid()\n",
        "print(f\"Minimum value of z(x) occurs at x = {x_min_sigmoid}\")\n",
        "\n"
      ],
      "metadata": {
        "colab": {
          "base_uri": "https://localhost:8080/"
        },
        "id": "d7ruSLGpEznI",
        "outputId": "5da5673b-a3cf-47cc-d74c-c30f1f6dd2fa"
      },
      "execution_count": null,
      "outputs": [
        {
          "output_type": "stream",
          "name": "stdout",
          "text": [
            "Minimum value of z(x) occurs at x = 4.510913300793877\n"
          ]
        }
      ]
    },
    {
      "cell_type": "markdown",
      "source": [
        "4.(1 ponto) Write Python code without using any libraries to find the value of optimal values of\n",
        "model parameters M and C such that the model’s Square Error Value shown in equation 4 will\n",
        "be minimum. It means model gives output close to expected output as shown in Figure 1"
      ],
      "metadata": {
        "id": "zaamn2laE7hI"
      }
    },
    {
      "cell_type": "markdown",
      "source": [
        "![a4.png](data:image/png;base64,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)"
      ],
      "metadata": {
        "id": "Ipy3Dt7RL-1-"
      }
    },
    {
      "cell_type": "code",
      "source": [
        "def gradient_descent_linear(alpha=0.01, epsilon=1e-6, max_iter=10000):\n",
        "    expected_outputs = [1, 2, 3, 4, 5]  # Example expected outputs\n",
        "    inputs = [1, 2, 3, 4, 5]  # Example inputs\n",
        "\n",
        "    def predicted_output(m, c, x):\n",
        "        return m * x + c\n",
        "\n",
        "    def se_grad_m(m, c):\n",
        "        return -2 * sum((e - predicted_output(m, c, x)) * x for e, x in zip(expected_outputs, inputs))\n",
        "\n",
        "    def se_grad_c(m, c):\n",
        "        return -2 * sum(e - predicted_output(m, c, x) for e, x in zip(expected_outputs, inputs))\n",
        "\n",
        "    m, c = 0.0, 0.0  # Initial guesses\n",
        "    for _ in range(max_iter):\n",
        "        grad_m = se_grad_m(m, c)\n",
        "        grad_c = se_grad_c(m, c)\n",
        "        if abs(grad_m) < epsilon and abs(grad_c) < epsilon:\n",
        "            break\n",
        "        m -= alpha * grad_m\n",
        "        c -= alpha * grad_c\n",
        "    return m, c\n",
        "\n",
        "m_opt, c_opt = gradient_descent_linear()\n",
        "print(f\"Optimal values are M = {m_opt}, C = {c_opt}\")\n"
      ],
      "metadata": {
        "colab": {
          "base_uri": "https://localhost:8080/"
        },
        "id": "9ylm_fz8FAno",
        "outputId": "fc00c3b3-54e4-4fc4-f2dd-40825b186ff9"
      },
      "execution_count": null,
      "outputs": [
        {
          "output_type": "stream",
          "name": "stdout",
          "text": [
            "Optimal values are M = 0.9999998375829822, C = 5.863769691679814e-07\n"
          ]
        }
      ]
    }
  ]
}