{
  "nbformat": 4,
  "nbformat_minor": 0,
  "metadata": {
    "colab": {
      "provenance": [],
      "authorship_tag": "ABX9TyNlWIy113XkDC1obnRL6UcH",
      "include_colab_link": true
    },
    "kernelspec": {
      "name": "python3",
      "display_name": "Python 3"
    },
    "language_info": {
      "name": "python"
    }
  },
  "cells": [
    {
      "cell_type": "markdown",
      "metadata": {
        "id": "view-in-github",
        "colab_type": "text"
      },
      "source": [
        "<a href=\"https://colab.research.google.com/github/23032212/Generative-AI-2025/blob/main/ASSIGNMENT_6.ipynb\" target=\"_parent\"><img src=\"https://colab.research.google.com/assets/colab-badge.svg\" alt=\"Open In Colab\"/></a>"
      ]
    },
    {
      "cell_type": "markdown",
      "source": [
        "1.Design a multilayer ANN architecture according to the requirements shown below. Train, test, save (.h5) and deploy the model to predict the housing price using Keras deep learning library"
      ],
      "metadata": {
        "id": "ngNXuT98s0Oy"
      }
    },
    {
      "cell_type": "code",
      "source": [
        "import pandas as pd\n",
        "from sklearn.model_selection import train_test_split\n",
        "from sklearn.preprocessing import StandardScaler\n",
        "import numpy as np\n",
        "from sklearn.preprocessing import OneHotEncoder\n",
        "url = '/content/Housing (1).csv'\n",
        "df = pd.read_csv(url)\n",
        "X = df.drop('price', axis=1)\n",
        "y = df['price']\n",
        "X_train, X_test, y_train, y_test = train_test_split(X, y, test_size=0.2, random_state=42)\n",
        "categorical_features = X_train.select_dtypes(include=['object']).columns\n",
        "encoder = OneHotEncoder(sparse_output=False, handle_unknown='ignore')\n",
        "encoded_features_train = encoder.fit_transform(X_train[categorical_features])\n",
        "encoded_features_test = encoder.transform(X_test[categorical_features])\n",
        "encoded_df_train = pd.DataFrame(encoded_features_train, columns=encoder.get_feature_names_out(categorical_features), index=X_train.index)\n",
        "encoded_df_test = pd.DataFrame(encoded_features_test, columns=encoder.get_feature_names_out(categorical_features), index=X_test.index)\n",
        "X_train = X_train.drop(categorical_features, axis=1)\n",
        "X_test = X_test.drop(categorical_features, axis=1)\n",
        "X_train = pd.concat([X_train, encoded_df_train], axis=1)\n",
        "X_test = pd.concat([X_test, encoded_df_test], axis=1)\n",
        "scaler = StandardScaler()\n",
        "X_train = scaler.fit_transform(X_train)\n",
        "X_test = scaler.transform(X_test)\n"
      ],
      "metadata": {
        "id": "tn4qbvkRs2sR"
      },
      "execution_count": 4,
      "outputs": []
    },
    {
      "cell_type": "markdown",
      "source": [
        "2.Calculate training and testing error metrics"
      ],
      "metadata": {
        "id": "jet7kzV-s7wx"
      }
    },
    {
      "cell_type": "code",
      "source": [
        "from tensorflow.keras.models import Sequential\n",
        "from tensorflow.keras.layers import Dense\n",
        "from tensorflow.keras.optimizers import SGD\n",
        "from tensorflow.keras.metrics import MeanSquaredError\n",
        "model = Sequential()\n",
        "model.add(Dense(15, input_dim=X_train.shape[1], activation='tanh'))\n",
        "model.add(Dense(20, activation='tanh'))\n",
        "model.add(Dense(15, activation='tanh'))\n",
        "model.add(Dense(1))\n",
        "model.compile(loss='mean_squared_error',\n",
        "              optimizer=SGD(),\n",
        "              metrics=[MeanSquaredError()])"
      ],
      "metadata": {
        "colab": {
          "base_uri": "https://localhost:8080/"
        },
        "id": "AIz_grCxs91R",
        "outputId": "606d5bb1-74ea-46c3-fa05-3a62d6554d36"
      },
      "execution_count": 5,
      "outputs": [
        {
          "output_type": "stream",
          "name": "stderr",
          "text": [
            "/usr/local/lib/python3.11/dist-packages/keras/src/layers/core/dense.py:87: UserWarning: Do not pass an `input_shape`/`input_dim` argument to a layer. When using Sequential models, prefer using an `Input(shape)` object as the first layer in the model instead.\n",
            "  super().__init__(activity_regularizer=activity_regularizer, **kwargs)\n"
          ]
        }
      ]
    },
    {
      "cell_type": "markdown",
      "source": [
        "3.Build the application by loading the saved ANN model. Tabela 1: ANN Architecture Layer Neurons Activation Function Hidden Layer - 1 15 tanh Hidden Layer - 2 20 tanh Hidden Layer - 3 15 tanh Tabela 2: Training Parameters loss function epochs batch size error metric Optimizer Mean Square Error 100 16 Mean Square Error SGD Dataset: https://drive.google.com/file/d/1AcdENlVm5dccNyo_vgdMbneX8YVvH5R3/view? usp=sharing\n",
        "\n"
      ],
      "metadata": {
        "id": "9_fLcMoRtAtS"
      }
    },
    {
      "cell_type": "code",
      "source": [
        "history = model.fit(X_train, y_train,\n",
        "                    epochs=100,\n",
        "                    batch_size=16,\n",
        "                    validation_data=(X_test, y_test))"
      ],
      "metadata": {
        "colab": {
          "base_uri": "https://localhost:8080/"
        },
        "id": "vEymureutFZ6",
        "outputId": "cb80c653-1be4-4beb-92ea-dee229eeac0c"
      },
      "execution_count": 6,
      "outputs": [
        {
          "output_type": "stream",
          "name": "stdout",
          "text": [
            "Epoch 1/100\n",
            "\u001b[1m28/28\u001b[0m \u001b[32m━━━━━━━━━━━━━━━━━━━━\u001b[0m\u001b[37m\u001b[0m \u001b[1m1s\u001b[0m 12ms/step - loss: 12448727826432.0000 - mean_squared_error: 12448727826432.0000 - val_loss: 6645164277760.0000 - val_mean_squared_error: 6645164277760.0000\n",
            "Epoch 2/100\n",
            "\u001b[1m28/28\u001b[0m \u001b[32m━━━━━━━━━━━━━━━━━━━━\u001b[0m\u001b[37m\u001b[0m \u001b[1m0s\u001b[0m 5ms/step - loss: 4534861561856.0000 - mean_squared_error: 4534861561856.0000 - val_loss: 5912759631872.0000 - val_mean_squared_error: 5912759631872.0000\n",
            "Epoch 3/100\n",
            "\u001b[1m28/28\u001b[0m \u001b[32m━━━━━━━━━━━━━━━━━━━━\u001b[0m\u001b[37m\u001b[0m \u001b[1m0s\u001b[0m 4ms/step - loss: 4044708642816.0000 - mean_squared_error: 4044708642816.0000 - val_loss: 5569397653504.0000 - val_mean_squared_error: 5569397653504.0000\n",
            "Epoch 4/100\n",
            "\u001b[1m28/28\u001b[0m \u001b[32m━━━━━━━━━━━━━━━━━━━━\u001b[0m\u001b[37m\u001b[0m \u001b[1m0s\u001b[0m 4ms/step - loss: 3889139286016.0000 - mean_squared_error: 3889139286016.0000 - val_loss: 5436219588608.0000 - val_mean_squared_error: 5436219588608.0000\n",
            "Epoch 5/100\n",
            "\u001b[1m28/28\u001b[0m \u001b[32m━━━━━━━━━━━━━━━━━━━━\u001b[0m\u001b[37m\u001b[0m \u001b[1m0s\u001b[0m 5ms/step - loss: 3635302629376.0000 - mean_squared_error: 3635302629376.0000 - val_loss: 5752215830528.0000 - val_mean_squared_error: 5752215830528.0000\n",
            "Epoch 6/100\n",
            "\u001b[1m28/28\u001b[0m \u001b[32m━━━━━━━━━━━━━━━━━━━━\u001b[0m\u001b[37m\u001b[0m \u001b[1m0s\u001b[0m 5ms/step - loss: 3750359203840.0000 - mean_squared_error: 3750359203840.0000 - val_loss: 5617185456128.0000 - val_mean_squared_error: 5617185456128.0000\n",
            "Epoch 7/100\n",
            "\u001b[1m28/28\u001b[0m \u001b[32m━━━━━━━━━━━━━━━━━━━━\u001b[0m\u001b[37m\u001b[0m \u001b[1m0s\u001b[0m 8ms/step - loss: 2960406347776.0000 - mean_squared_error: 2960406347776.0000 - val_loss: 5307364278272.0000 - val_mean_squared_error: 5307364278272.0000\n",
            "Epoch 8/100\n",
            "\u001b[1m28/28\u001b[0m \u001b[32m━━━━━━━━━━━━━━━━━━━━\u001b[0m\u001b[37m\u001b[0m \u001b[1m0s\u001b[0m 7ms/step - loss: 3397918654464.0000 - mean_squared_error: 3397918654464.0000 - val_loss: 5120875036672.0000 - val_mean_squared_error: 5120875036672.0000\n",
            "Epoch 9/100\n",
            "\u001b[1m28/28\u001b[0m \u001b[32m━━━━━━━━━━━━━━━━━━━━\u001b[0m\u001b[37m\u001b[0m \u001b[1m0s\u001b[0m 8ms/step - loss: 3442270535680.0000 - mean_squared_error: 3442270535680.0000 - val_loss: 5110929293312.0000 - val_mean_squared_error: 5110929293312.0000\n",
            "Epoch 10/100\n",
            "\u001b[1m28/28\u001b[0m \u001b[32m━━━━━━━━━━━━━━━━━━━━\u001b[0m\u001b[37m\u001b[0m \u001b[1m0s\u001b[0m 7ms/step - loss: 2875032076288.0000 - mean_squared_error: 2875032076288.0000 - val_loss: 5053111336960.0000 - val_mean_squared_error: 5053111336960.0000\n",
            "Epoch 11/100\n",
            "\u001b[1m28/28\u001b[0m \u001b[32m━━━━━━━━━━━━━━━━━━━━\u001b[0m\u001b[37m\u001b[0m \u001b[1m0s\u001b[0m 10ms/step - loss: 2920897052672.0000 - mean_squared_error: 2920897052672.0000 - val_loss: 5117392191488.0000 - val_mean_squared_error: 5117392715776.0000\n",
            "Epoch 12/100\n",
            "\u001b[1m28/28\u001b[0m \u001b[32m━━━━━━━━━━━━━━━━━━━━\u001b[0m\u001b[37m\u001b[0m \u001b[1m0s\u001b[0m 11ms/step - loss: 3208172535808.0000 - mean_squared_error: 3208172535808.0000 - val_loss: 5107913064448.0000 - val_mean_squared_error: 5107913064448.0000\n",
            "Epoch 13/100\n",
            "\u001b[1m28/28\u001b[0m \u001b[32m━━━━━━━━━━━━━━━━━━━━\u001b[0m\u001b[37m\u001b[0m \u001b[1m0s\u001b[0m 5ms/step - loss: 3086315945984.0000 - mean_squared_error: 3086315945984.0000 - val_loss: 5133471055872.0000 - val_mean_squared_error: 5133471055872.0000\n",
            "Epoch 14/100\n",
            "\u001b[1m28/28\u001b[0m \u001b[32m━━━━━━━━━━━━━━━━━━━━\u001b[0m\u001b[37m\u001b[0m \u001b[1m0s\u001b[0m 5ms/step - loss: 2931464863744.0000 - mean_squared_error: 2931464863744.0000 - val_loss: 5351785627648.0000 - val_mean_squared_error: 5351785627648.0000\n",
            "Epoch 15/100\n",
            "\u001b[1m28/28\u001b[0m \u001b[32m━━━━━━━━━━━━━━━━━━━━\u001b[0m\u001b[37m\u001b[0m \u001b[1m0s\u001b[0m 6ms/step - loss: 2848406110208.0000 - mean_squared_error: 2848406110208.0000 - val_loss: 5023696683008.0000 - val_mean_squared_error: 5023696683008.0000\n",
            "Epoch 16/100\n",
            "\u001b[1m28/28\u001b[0m \u001b[32m━━━━━━━━━━━━━━━━━━━━\u001b[0m\u001b[37m\u001b[0m \u001b[1m0s\u001b[0m 5ms/step - loss: 2668786614272.0000 - mean_squared_error: 2668786614272.0000 - val_loss: 5183610814464.0000 - val_mean_squared_error: 5183610814464.0000\n",
            "Epoch 17/100\n",
            "\u001b[1m28/28\u001b[0m \u001b[32m━━━━━━━━━━━━━━━━━━━━\u001b[0m\u001b[37m\u001b[0m \u001b[1m0s\u001b[0m 5ms/step - loss: 2431478398976.0000 - mean_squared_error: 2431478398976.0000 - val_loss: 5044147060736.0000 - val_mean_squared_error: 5044147060736.0000\n",
            "Epoch 18/100\n",
            "\u001b[1m28/28\u001b[0m \u001b[32m━━━━━━━━━━━━━━━━━━━━\u001b[0m\u001b[37m\u001b[0m \u001b[1m0s\u001b[0m 5ms/step - loss: 3683884466176.0000 - mean_squared_error: 3683884466176.0000 - val_loss: 5004058427392.0000 - val_mean_squared_error: 5004058427392.0000\n",
            "Epoch 19/100\n",
            "\u001b[1m28/28\u001b[0m \u001b[32m━━━━━━━━━━━━━━━━━━━━\u001b[0m\u001b[37m\u001b[0m \u001b[1m0s\u001b[0m 5ms/step - loss: 2989568557056.0000 - mean_squared_error: 2989568557056.0000 - val_loss: 5014002073600.0000 - val_mean_squared_error: 5014002073600.0000\n",
            "Epoch 20/100\n",
            "\u001b[1m28/28\u001b[0m \u001b[32m━━━━━━━━━━━━━━━━━━━━\u001b[0m\u001b[37m\u001b[0m \u001b[1m0s\u001b[0m 5ms/step - loss: 2928281387008.0000 - mean_squared_error: 2928281387008.0000 - val_loss: 5283971072000.0000 - val_mean_squared_error: 5283971072000.0000\n",
            "Epoch 21/100\n",
            "\u001b[1m28/28\u001b[0m \u001b[32m━━━━━━━━━━━━━━━━━━━━\u001b[0m\u001b[37m\u001b[0m \u001b[1m0s\u001b[0m 4ms/step - loss: 3202659647488.0000 - mean_squared_error: 3202659647488.0000 - val_loss: 5036161630208.0000 - val_mean_squared_error: 5036161630208.0000\n",
            "Epoch 22/100\n",
            "\u001b[1m28/28\u001b[0m \u001b[32m━━━━━━━━━━━━━━━━━━━━\u001b[0m\u001b[37m\u001b[0m \u001b[1m0s\u001b[0m 4ms/step - loss: 3015310573568.0000 - mean_squared_error: 3015310573568.0000 - val_loss: 5120093323264.0000 - val_mean_squared_error: 5120093323264.0000\n",
            "Epoch 23/100\n",
            "\u001b[1m28/28\u001b[0m \u001b[32m━━━━━━━━━━━━━━━━━━━━\u001b[0m\u001b[37m\u001b[0m \u001b[1m0s\u001b[0m 5ms/step - loss: 3226748583936.0000 - mean_squared_error: 3226748583936.0000 - val_loss: 5365300199424.0000 - val_mean_squared_error: 5365300199424.0000\n",
            "Epoch 24/100\n",
            "\u001b[1m28/28\u001b[0m \u001b[32m━━━━━━━━━━━━━━━━━━━━\u001b[0m\u001b[37m\u001b[0m \u001b[1m0s\u001b[0m 5ms/step - loss: 2846006181888.0000 - mean_squared_error: 2846006181888.0000 - val_loss: 5005140557824.0000 - val_mean_squared_error: 5005140557824.0000\n",
            "Epoch 25/100\n",
            "\u001b[1m28/28\u001b[0m \u001b[32m━━━━━━━━━━━━━━━━━━━━\u001b[0m\u001b[37m\u001b[0m \u001b[1m0s\u001b[0m 5ms/step - loss: 2751295651840.0000 - mean_squared_error: 2751295651840.0000 - val_loss: 4991948423168.0000 - val_mean_squared_error: 4991948423168.0000\n",
            "Epoch 26/100\n",
            "\u001b[1m28/28\u001b[0m \u001b[32m━━━━━━━━━━━━━━━━━━━━\u001b[0m\u001b[37m\u001b[0m \u001b[1m0s\u001b[0m 5ms/step - loss: 2996726923264.0000 - mean_squared_error: 2996726923264.0000 - val_loss: 4961611546624.0000 - val_mean_squared_error: 4961611546624.0000\n",
            "Epoch 27/100\n",
            "\u001b[1m28/28\u001b[0m \u001b[32m━━━━━━━━━━━━━━━━━━━━\u001b[0m\u001b[37m\u001b[0m \u001b[1m0s\u001b[0m 7ms/step - loss: 3042251112448.0000 - mean_squared_error: 3042251112448.0000 - val_loss: 5221411979264.0000 - val_mean_squared_error: 5221411979264.0000\n",
            "Epoch 28/100\n",
            "\u001b[1m28/28\u001b[0m \u001b[32m━━━━━━━━━━━━━━━━━━━━\u001b[0m\u001b[37m\u001b[0m \u001b[1m0s\u001b[0m 5ms/step - loss: 2858053533696.0000 - mean_squared_error: 2858053533696.0000 - val_loss: 4975132409856.0000 - val_mean_squared_error: 4975132409856.0000\n",
            "Epoch 29/100\n",
            "\u001b[1m28/28\u001b[0m \u001b[32m━━━━━━━━━━━━━━━━━━━━\u001b[0m\u001b[37m\u001b[0m \u001b[1m0s\u001b[0m 5ms/step - loss: 2592091930624.0000 - mean_squared_error: 2592091930624.0000 - val_loss: 4956250701824.0000 - val_mean_squared_error: 4956250701824.0000\n",
            "Epoch 30/100\n",
            "\u001b[1m28/28\u001b[0m \u001b[32m━━━━━━━━━━━━━━━━━━━━\u001b[0m\u001b[37m\u001b[0m \u001b[1m0s\u001b[0m 5ms/step - loss: 3406251425792.0000 - mean_squared_error: 3406251425792.0000 - val_loss: 5229111672832.0000 - val_mean_squared_error: 5229111672832.0000\n",
            "Epoch 31/100\n",
            "\u001b[1m28/28\u001b[0m \u001b[32m━━━━━━━━━━━━━━━━━━━━\u001b[0m\u001b[37m\u001b[0m \u001b[1m0s\u001b[0m 5ms/step - loss: 3132886089728.0000 - mean_squared_error: 3132886089728.0000 - val_loss: 5017669468160.0000 - val_mean_squared_error: 5017669468160.0000\n",
            "Epoch 32/100\n",
            "\u001b[1m28/28\u001b[0m \u001b[32m━━━━━━━━━━━━━━━━━━━━\u001b[0m\u001b[37m\u001b[0m \u001b[1m0s\u001b[0m 5ms/step - loss: 2802067963904.0000 - mean_squared_error: 2802067963904.0000 - val_loss: 5019656519680.0000 - val_mean_squared_error: 5019656519680.0000\n",
            "Epoch 33/100\n",
            "\u001b[1m28/28\u001b[0m \u001b[32m━━━━━━━━━━━━━━━━━━━━\u001b[0m\u001b[37m\u001b[0m \u001b[1m0s\u001b[0m 6ms/step - loss: 3033584631808.0000 - mean_squared_error: 3033584631808.0000 - val_loss: 5131136401408.0000 - val_mean_squared_error: 5131136401408.0000\n",
            "Epoch 34/100\n",
            "\u001b[1m28/28\u001b[0m \u001b[32m━━━━━━━━━━━━━━━━━━━━\u001b[0m\u001b[37m\u001b[0m \u001b[1m0s\u001b[0m 7ms/step - loss: 3038585290752.0000 - mean_squared_error: 3038585290752.0000 - val_loss: 5091358146560.0000 - val_mean_squared_error: 5091358146560.0000\n",
            "Epoch 35/100\n",
            "\u001b[1m28/28\u001b[0m \u001b[32m━━━━━━━━━━━━━━━━━━━━\u001b[0m\u001b[37m\u001b[0m \u001b[1m0s\u001b[0m 5ms/step - loss: 2931494486016.0000 - mean_squared_error: 2931494486016.0000 - val_loss: 5122095579136.0000 - val_mean_squared_error: 5122095579136.0000\n",
            "Epoch 36/100\n",
            "\u001b[1m28/28\u001b[0m \u001b[32m━━━━━━━━━━━━━━━━━━━━\u001b[0m\u001b[37m\u001b[0m \u001b[1m0s\u001b[0m 5ms/step - loss: 2737905074176.0000 - mean_squared_error: 2737905074176.0000 - val_loss: 4958638833664.0000 - val_mean_squared_error: 4958638833664.0000\n",
            "Epoch 37/100\n",
            "\u001b[1m28/28\u001b[0m \u001b[32m━━━━━━━━━━━━━━━━━━━━\u001b[0m\u001b[37m\u001b[0m \u001b[1m0s\u001b[0m 6ms/step - loss: 2871195336704.0000 - mean_squared_error: 2871195336704.0000 - val_loss: 5061761040384.0000 - val_mean_squared_error: 5061761040384.0000\n",
            "Epoch 38/100\n",
            "\u001b[1m28/28\u001b[0m \u001b[32m━━━━━━━━━━━━━━━━━━━━\u001b[0m\u001b[37m\u001b[0m \u001b[1m0s\u001b[0m 5ms/step - loss: 2637661732864.0000 - mean_squared_error: 2637661732864.0000 - val_loss: 4938175348736.0000 - val_mean_squared_error: 4938175348736.0000\n",
            "Epoch 39/100\n",
            "\u001b[1m28/28\u001b[0m \u001b[32m━━━━━━━━━━━━━━━━━━━━\u001b[0m\u001b[37m\u001b[0m \u001b[1m0s\u001b[0m 5ms/step - loss: 3026576474112.0000 - mean_squared_error: 3026576474112.0000 - val_loss: 4971084906496.0000 - val_mean_squared_error: 4971085430784.0000\n",
            "Epoch 40/100\n",
            "\u001b[1m28/28\u001b[0m \u001b[32m━━━━━━━━━━━━━━━━━━━━\u001b[0m\u001b[37m\u001b[0m \u001b[1m0s\u001b[0m 5ms/step - loss: 3087640559616.0000 - mean_squared_error: 3087640559616.0000 - val_loss: 5442338029568.0000 - val_mean_squared_error: 5442338029568.0000\n",
            "Epoch 41/100\n",
            "\u001b[1m28/28\u001b[0m \u001b[32m━━━━━━━━━━━━━━━━━━━━\u001b[0m\u001b[37m\u001b[0m \u001b[1m0s\u001b[0m 5ms/step - loss: 3064814632960.0000 - mean_squared_error: 3064814632960.0000 - val_loss: 5107966017536.0000 - val_mean_squared_error: 5107966017536.0000\n",
            "Epoch 42/100\n",
            "\u001b[1m28/28\u001b[0m \u001b[32m━━━━━━━━━━━━━━━━━━━━\u001b[0m\u001b[37m\u001b[0m \u001b[1m0s\u001b[0m 6ms/step - loss: 2743229218816.0000 - mean_squared_error: 2743229218816.0000 - val_loss: 5029129879552.0000 - val_mean_squared_error: 5029129879552.0000\n",
            "Epoch 43/100\n",
            "\u001b[1m28/28\u001b[0m \u001b[32m━━━━━━━━━━━━━━━━━━━━\u001b[0m\u001b[37m\u001b[0m \u001b[1m0s\u001b[0m 5ms/step - loss: 2776438407168.0000 - mean_squared_error: 2776438407168.0000 - val_loss: 4934480691200.0000 - val_mean_squared_error: 4934480691200.0000\n",
            "Epoch 44/100\n",
            "\u001b[1m28/28\u001b[0m \u001b[32m━━━━━━━━━━━━━━━━━━━━\u001b[0m\u001b[37m\u001b[0m \u001b[1m0s\u001b[0m 6ms/step - loss: 2857050832896.0000 - mean_squared_error: 2857050832896.0000 - val_loss: 4926007148544.0000 - val_mean_squared_error: 4926007148544.0000\n",
            "Epoch 45/100\n",
            "\u001b[1m28/28\u001b[0m \u001b[32m━━━━━━━━━━━━━━━━━━━━\u001b[0m\u001b[37m\u001b[0m \u001b[1m0s\u001b[0m 5ms/step - loss: 2565555093504.0000 - mean_squared_error: 2565555093504.0000 - val_loss: 4956276391936.0000 - val_mean_squared_error: 4956276391936.0000\n",
            "Epoch 46/100\n",
            "\u001b[1m28/28\u001b[0m \u001b[32m━━━━━━━━━━━━━━━━━━━━\u001b[0m\u001b[37m\u001b[0m \u001b[1m0s\u001b[0m 5ms/step - loss: 3145278947328.0000 - mean_squared_error: 3145278947328.0000 - val_loss: 5203421036544.0000 - val_mean_squared_error: 5203421036544.0000\n",
            "Epoch 47/100\n",
            "\u001b[1m28/28\u001b[0m \u001b[32m━━━━━━━━━━━━━━━━━━━━\u001b[0m\u001b[37m\u001b[0m \u001b[1m0s\u001b[0m 6ms/step - loss: 2657889812480.0000 - mean_squared_error: 2657889812480.0000 - val_loss: 5272479727616.0000 - val_mean_squared_error: 5272479727616.0000\n",
            "Epoch 48/100\n",
            "\u001b[1m28/28\u001b[0m \u001b[32m━━━━━━━━━━━━━━━━━━━━\u001b[0m\u001b[37m\u001b[0m \u001b[1m0s\u001b[0m 4ms/step - loss: 2866177376256.0000 - mean_squared_error: 2866177376256.0000 - val_loss: 4946787303424.0000 - val_mean_squared_error: 4946787303424.0000\n",
            "Epoch 49/100\n",
            "\u001b[1m28/28\u001b[0m \u001b[32m━━━━━━━━━━━━━━━━━━━━\u001b[0m\u001b[37m\u001b[0m \u001b[1m0s\u001b[0m 5ms/step - loss: 2661747261440.0000 - mean_squared_error: 2661747261440.0000 - val_loss: 4987504558080.0000 - val_mean_squared_error: 4987504558080.0000\n",
            "Epoch 50/100\n",
            "\u001b[1m28/28\u001b[0m \u001b[32m━━━━━━━━━━━━━━━━━━━━\u001b[0m\u001b[37m\u001b[0m \u001b[1m0s\u001b[0m 5ms/step - loss: 2800483303424.0000 - mean_squared_error: 2800483303424.0000 - val_loss: 4911056551936.0000 - val_mean_squared_error: 4911056551936.0000\n",
            "Epoch 51/100\n",
            "\u001b[1m28/28\u001b[0m \u001b[32m━━━━━━━━━━━━━━━━━━━━\u001b[0m\u001b[37m\u001b[0m \u001b[1m0s\u001b[0m 8ms/step - loss: 2813851074560.0000 - mean_squared_error: 2813851074560.0000 - val_loss: 4937222717440.0000 - val_mean_squared_error: 4937222717440.0000\n",
            "Epoch 52/100\n",
            "\u001b[1m28/28\u001b[0m \u001b[32m━━━━━━━━━━━━━━━━━━━━\u001b[0m\u001b[37m\u001b[0m \u001b[1m0s\u001b[0m 8ms/step - loss: 2890656645120.0000 - mean_squared_error: 2890656645120.0000 - val_loss: 5281892794368.0000 - val_mean_squared_error: 5281892794368.0000\n",
            "Epoch 53/100\n",
            "\u001b[1m28/28\u001b[0m \u001b[32m━━━━━━━━━━━━━━━━━━━━\u001b[0m\u001b[37m\u001b[0m \u001b[1m0s\u001b[0m 8ms/step - loss: 3109385404416.0000 - mean_squared_error: 3109385404416.0000 - val_loss: 4932222058496.0000 - val_mean_squared_error: 4932222058496.0000\n",
            "Epoch 54/100\n",
            "\u001b[1m28/28\u001b[0m \u001b[32m━━━━━━━━━━━━━━━━━━━━\u001b[0m\u001b[37m\u001b[0m \u001b[1m0s\u001b[0m 8ms/step - loss: 2758268157952.0000 - mean_squared_error: 2758268157952.0000 - val_loss: 5250685599744.0000 - val_mean_squared_error: 5250685599744.0000\n",
            "Epoch 55/100\n",
            "\u001b[1m28/28\u001b[0m \u001b[32m━━━━━━━━━━━━━━━━━━━━\u001b[0m\u001b[37m\u001b[0m \u001b[1m0s\u001b[0m 8ms/step - loss: 3173490622464.0000 - mean_squared_error: 3173490622464.0000 - val_loss: 5094137397248.0000 - val_mean_squared_error: 5094137397248.0000\n",
            "Epoch 56/100\n",
            "\u001b[1m28/28\u001b[0m \u001b[32m━━━━━━━━━━━━━━━━━━━━\u001b[0m\u001b[37m\u001b[0m \u001b[1m0s\u001b[0m 10ms/step - loss: 3260302753792.0000 - mean_squared_error: 3260302753792.0000 - val_loss: 4934676774912.0000 - val_mean_squared_error: 4934676774912.0000\n",
            "Epoch 57/100\n",
            "\u001b[1m28/28\u001b[0m \u001b[32m━━━━━━━━━━━━━━━━━━━━\u001b[0m\u001b[37m\u001b[0m \u001b[1m1s\u001b[0m 8ms/step - loss: 2605960134656.0000 - mean_squared_error: 2605960134656.0000 - val_loss: 5006127792128.0000 - val_mean_squared_error: 5006127792128.0000\n",
            "Epoch 58/100\n",
            "\u001b[1m28/28\u001b[0m \u001b[32m━━━━━━━━━━━━━━━━━━━━\u001b[0m\u001b[37m\u001b[0m \u001b[1m0s\u001b[0m 6ms/step - loss: 2699059003392.0000 - mean_squared_error: 2699059003392.0000 - val_loss: 5000644788224.0000 - val_mean_squared_error: 5000644788224.0000\n",
            "Epoch 59/100\n",
            "\u001b[1m28/28\u001b[0m \u001b[32m━━━━━━━━━━━━━━━━━━━━\u001b[0m\u001b[37m\u001b[0m \u001b[1m0s\u001b[0m 6ms/step - loss: 3044952244224.0000 - mean_squared_error: 3044952244224.0000 - val_loss: 4919244881920.0000 - val_mean_squared_error: 4919244881920.0000\n",
            "Epoch 60/100\n",
            "\u001b[1m28/28\u001b[0m \u001b[32m━━━━━━━━━━━━━━━━━━━━\u001b[0m\u001b[37m\u001b[0m \u001b[1m0s\u001b[0m 4ms/step - loss: 2912078004224.0000 - mean_squared_error: 2912078004224.0000 - val_loss: 5183081283584.0000 - val_mean_squared_error: 5183081283584.0000\n",
            "Epoch 61/100\n",
            "\u001b[1m28/28\u001b[0m \u001b[32m━━━━━━━━━━━━━━━━━━━━\u001b[0m\u001b[37m\u001b[0m \u001b[1m0s\u001b[0m 5ms/step - loss: 2541079494656.0000 - mean_squared_error: 2541079494656.0000 - val_loss: 4895064195072.0000 - val_mean_squared_error: 4895064195072.0000\n",
            "Epoch 62/100\n",
            "\u001b[1m28/28\u001b[0m \u001b[32m━━━━━━━━━━━━━━━━━━━━\u001b[0m\u001b[37m\u001b[0m \u001b[1m0s\u001b[0m 6ms/step - loss: 3007538790400.0000 - mean_squared_error: 3007538790400.0000 - val_loss: 4889730613248.0000 - val_mean_squared_error: 4889730613248.0000\n",
            "Epoch 63/100\n",
            "\u001b[1m28/28\u001b[0m \u001b[32m━━━━━━━━━━━━━━━━━━━━\u001b[0m\u001b[37m\u001b[0m \u001b[1m0s\u001b[0m 5ms/step - loss: 2896549380096.0000 - mean_squared_error: 2896549380096.0000 - val_loss: 5177463013376.0000 - val_mean_squared_error: 5177463013376.0000\n",
            "Epoch 64/100\n",
            "\u001b[1m28/28\u001b[0m \u001b[32m━━━━━━━━━━━━━━━━━━━━\u001b[0m\u001b[37m\u001b[0m \u001b[1m0s\u001b[0m 6ms/step - loss: 3046355501056.0000 - mean_squared_error: 3046355501056.0000 - val_loss: 4950924460032.0000 - val_mean_squared_error: 4950924460032.0000\n",
            "Epoch 65/100\n",
            "\u001b[1m28/28\u001b[0m \u001b[32m━━━━━━━━━━━━━━━━━━━━\u001b[0m\u001b[37m\u001b[0m \u001b[1m0s\u001b[0m 5ms/step - loss: 3326929010688.0000 - mean_squared_error: 3326929010688.0000 - val_loss: 5114135838720.0000 - val_mean_squared_error: 5114135838720.0000\n",
            "Epoch 66/100\n",
            "\u001b[1m28/28\u001b[0m \u001b[32m━━━━━━━━━━━━━━━━━━━━\u001b[0m\u001b[37m\u001b[0m \u001b[1m0s\u001b[0m 4ms/step - loss: 3059404767232.0000 - mean_squared_error: 3059404767232.0000 - val_loss: 4938965975040.0000 - val_mean_squared_error: 4938965975040.0000\n",
            "Epoch 67/100\n",
            "\u001b[1m28/28\u001b[0m \u001b[32m━━━━━━━━━━━━━━━━━━━━\u001b[0m\u001b[37m\u001b[0m \u001b[1m0s\u001b[0m 4ms/step - loss: 3045194989568.0000 - mean_squared_error: 3045194989568.0000 - val_loss: 5000594980864.0000 - val_mean_squared_error: 5000594980864.0000\n",
            "Epoch 68/100\n",
            "\u001b[1m28/28\u001b[0m \u001b[32m━━━━━━━━━━━━━━━━━━━━\u001b[0m\u001b[37m\u001b[0m \u001b[1m0s\u001b[0m 4ms/step - loss: 3231316705280.0000 - mean_squared_error: 3231316705280.0000 - val_loss: 4973487194112.0000 - val_mean_squared_error: 4973487194112.0000\n",
            "Epoch 69/100\n",
            "\u001b[1m28/28\u001b[0m \u001b[32m━━━━━━━━━━━━━━━━━━━━\u001b[0m\u001b[37m\u001b[0m \u001b[1m0s\u001b[0m 5ms/step - loss: 2878220533760.0000 - mean_squared_error: 2878220533760.0000 - val_loss: 5045027864576.0000 - val_mean_squared_error: 5045027864576.0000\n",
            "Epoch 70/100\n",
            "\u001b[1m28/28\u001b[0m \u001b[32m━━━━━━━━━━━━━━━━━━━━\u001b[0m\u001b[37m\u001b[0m \u001b[1m0s\u001b[0m 5ms/step - loss: 2752009994240.0000 - mean_squared_error: 2752009994240.0000 - val_loss: 4942775451648.0000 - val_mean_squared_error: 4942775451648.0000\n",
            "Epoch 71/100\n",
            "\u001b[1m28/28\u001b[0m \u001b[32m━━━━━━━━━━━━━━━━━━━━\u001b[0m\u001b[37m\u001b[0m \u001b[1m0s\u001b[0m 5ms/step - loss: 2622450302976.0000 - mean_squared_error: 2622450302976.0000 - val_loss: 5056005406720.0000 - val_mean_squared_error: 5056005406720.0000\n",
            "Epoch 72/100\n",
            "\u001b[1m28/28\u001b[0m \u001b[32m━━━━━━━━━━━━━━━━━━━━\u001b[0m\u001b[37m\u001b[0m \u001b[1m0s\u001b[0m 4ms/step - loss: 2811035385856.0000 - mean_squared_error: 2811035385856.0000 - val_loss: 4909759463424.0000 - val_mean_squared_error: 4909759463424.0000\n",
            "Epoch 73/100\n",
            "\u001b[1m28/28\u001b[0m \u001b[32m━━━━━━━━━━━━━━━━━━━━\u001b[0m\u001b[37m\u001b[0m \u001b[1m0s\u001b[0m 5ms/step - loss: 2730418503680.0000 - mean_squared_error: 2730418503680.0000 - val_loss: 4910262779904.0000 - val_mean_squared_error: 4910262779904.0000\n",
            "Epoch 74/100\n",
            "\u001b[1m28/28\u001b[0m \u001b[32m━━━━━━━━━━━━━━━━━━━━\u001b[0m\u001b[37m\u001b[0m \u001b[1m0s\u001b[0m 4ms/step - loss: 2985842966528.0000 - mean_squared_error: 2985842966528.0000 - val_loss: 5132827754496.0000 - val_mean_squared_error: 5132827754496.0000\n",
            "Epoch 75/100\n",
            "\u001b[1m28/28\u001b[0m \u001b[32m━━━━━━━━━━━━━━━━━━━━\u001b[0m\u001b[37m\u001b[0m \u001b[1m0s\u001b[0m 5ms/step - loss: 2973516431360.0000 - mean_squared_error: 2973516431360.0000 - val_loss: 5660518383616.0000 - val_mean_squared_error: 5660518383616.0000\n",
            "Epoch 76/100\n",
            "\u001b[1m28/28\u001b[0m \u001b[32m━━━━━━━━━━━━━━━━━━━━\u001b[0m\u001b[37m\u001b[0m \u001b[1m0s\u001b[0m 4ms/step - loss: 2858755293184.0000 - mean_squared_error: 2858755293184.0000 - val_loss: 5117220749312.0000 - val_mean_squared_error: 5117220749312.0000\n",
            "Epoch 77/100\n",
            "\u001b[1m28/28\u001b[0m \u001b[32m━━━━━━━━━━━━━━━━━━━━\u001b[0m\u001b[37m\u001b[0m \u001b[1m0s\u001b[0m 5ms/step - loss: 2835802750976.0000 - mean_squared_error: 2835802750976.0000 - val_loss: 4899713581056.0000 - val_mean_squared_error: 4899713581056.0000\n",
            "Epoch 78/100\n",
            "\u001b[1m28/28\u001b[0m \u001b[32m━━━━━━━━━━━━━━━━━━━━\u001b[0m\u001b[37m\u001b[0m \u001b[1m0s\u001b[0m 5ms/step - loss: 2883002826752.0000 - mean_squared_error: 2883002826752.0000 - val_loss: 4989827153920.0000 - val_mean_squared_error: 4989827153920.0000\n",
            "Epoch 79/100\n",
            "\u001b[1m28/28\u001b[0m \u001b[32m━━━━━━━━━━━━━━━━━━━━\u001b[0m\u001b[37m\u001b[0m \u001b[1m0s\u001b[0m 5ms/step - loss: 2914139504640.0000 - mean_squared_error: 2914139504640.0000 - val_loss: 4874127278080.0000 - val_mean_squared_error: 4874127278080.0000\n",
            "Epoch 80/100\n",
            "\u001b[1m28/28\u001b[0m \u001b[32m━━━━━━━━━━━━━━━━━━━━\u001b[0m\u001b[37m\u001b[0m \u001b[1m0s\u001b[0m 5ms/step - loss: 2596657168384.0000 - mean_squared_error: 2596657168384.0000 - val_loss: 4998897860608.0000 - val_mean_squared_error: 4998897860608.0000\n",
            "Epoch 81/100\n",
            "\u001b[1m28/28\u001b[0m \u001b[32m━━━━━━━━━━━━━━━━━━━━\u001b[0m\u001b[37m\u001b[0m \u001b[1m0s\u001b[0m 5ms/step - loss: 2522290847744.0000 - mean_squared_error: 2522290847744.0000 - val_loss: 4904255488000.0000 - val_mean_squared_error: 4904255488000.0000\n",
            "Epoch 82/100\n",
            "\u001b[1m28/28\u001b[0m \u001b[32m━━━━━━━━━━━━━━━━━━━━\u001b[0m\u001b[37m\u001b[0m \u001b[1m0s\u001b[0m 6ms/step - loss: 2887724826624.0000 - mean_squared_error: 2887724826624.0000 - val_loss: 4919241211904.0000 - val_mean_squared_error: 4919241211904.0000\n",
            "Epoch 83/100\n",
            "\u001b[1m28/28\u001b[0m \u001b[32m━━━━━━━━━━━━━━━━━━━━\u001b[0m\u001b[37m\u001b[0m \u001b[1m0s\u001b[0m 4ms/step - loss: 2740210106368.0000 - mean_squared_error: 2740210106368.0000 - val_loss: 4924865249280.0000 - val_mean_squared_error: 4924865249280.0000\n",
            "Epoch 84/100\n",
            "\u001b[1m28/28\u001b[0m \u001b[32m━━━━━━━━━━━━━━━━━━━━\u001b[0m\u001b[37m\u001b[0m \u001b[1m0s\u001b[0m 5ms/step - loss: 2658965913600.0000 - mean_squared_error: 2658965913600.0000 - val_loss: 4878048952320.0000 - val_mean_squared_error: 4878048952320.0000\n",
            "Epoch 85/100\n",
            "\u001b[1m28/28\u001b[0m \u001b[32m━━━━━━━━━━━━━━━━━━━━\u001b[0m\u001b[37m\u001b[0m \u001b[1m0s\u001b[0m 4ms/step - loss: 2763519164416.0000 - mean_squared_error: 2763519164416.0000 - val_loss: 5028304125952.0000 - val_mean_squared_error: 5028304125952.0000\n",
            "Epoch 86/100\n",
            "\u001b[1m28/28\u001b[0m \u001b[32m━━━━━━━━━━━━━━━━━━━━\u001b[0m\u001b[37m\u001b[0m \u001b[1m0s\u001b[0m 5ms/step - loss: 2959913779200.0000 - mean_squared_error: 2959913779200.0000 - val_loss: 5201457577984.0000 - val_mean_squared_error: 5201457577984.0000\n",
            "Epoch 87/100\n",
            "\u001b[1m28/28\u001b[0m \u001b[32m━━━━━━━━━━━━━━━━━━━━\u001b[0m\u001b[37m\u001b[0m \u001b[1m0s\u001b[0m 5ms/step - loss: 2663723302912.0000 - mean_squared_error: 2663723302912.0000 - val_loss: 4902663749632.0000 - val_mean_squared_error: 4902663749632.0000\n",
            "Epoch 88/100\n",
            "\u001b[1m28/28\u001b[0m \u001b[32m━━━━━━━━━━━━━━━━━━━━\u001b[0m\u001b[37m\u001b[0m \u001b[1m0s\u001b[0m 5ms/step - loss: 2735800057856.0000 - mean_squared_error: 2735800057856.0000 - val_loss: 5096415428608.0000 - val_mean_squared_error: 5096415428608.0000\n",
            "Epoch 89/100\n",
            "\u001b[1m28/28\u001b[0m \u001b[32m━━━━━━━━━━━━━━━━━━━━\u001b[0m\u001b[37m\u001b[0m \u001b[1m0s\u001b[0m 5ms/step - loss: 2716847833088.0000 - mean_squared_error: 2716847833088.0000 - val_loss: 5567503925248.0000 - val_mean_squared_error: 5567503925248.0000\n",
            "Epoch 90/100\n",
            "\u001b[1m28/28\u001b[0m \u001b[32m━━━━━━━━━━━━━━━━━━━━\u001b[0m\u001b[37m\u001b[0m \u001b[1m0s\u001b[0m 5ms/step - loss: 3139323035648.0000 - mean_squared_error: 3139323035648.0000 - val_loss: 4997608112128.0000 - val_mean_squared_error: 4997608112128.0000\n",
            "Epoch 91/100\n",
            "\u001b[1m28/28\u001b[0m \u001b[32m━━━━━━━━━━━━━━━━━━━━\u001b[0m\u001b[37m\u001b[0m \u001b[1m0s\u001b[0m 5ms/step - loss: 3213749649408.0000 - mean_squared_error: 3213749649408.0000 - val_loss: 4941639843840.0000 - val_mean_squared_error: 4941639843840.0000\n",
            "Epoch 92/100\n",
            "\u001b[1m28/28\u001b[0m \u001b[32m━━━━━━━━━━━━━━━━━━━━\u001b[0m\u001b[37m\u001b[0m \u001b[1m0s\u001b[0m 5ms/step - loss: 2965967470592.0000 - mean_squared_error: 2965967470592.0000 - val_loss: 4880912613376.0000 - val_mean_squared_error: 4880912613376.0000\n",
            "Epoch 93/100\n",
            "\u001b[1m28/28\u001b[0m \u001b[32m━━━━━━━━━━━━━━━━━━━━\u001b[0m\u001b[37m\u001b[0m \u001b[1m0s\u001b[0m 5ms/step - loss: 2778862190592.0000 - mean_squared_error: 2778862190592.0000 - val_loss: 4972312788992.0000 - val_mean_squared_error: 4972312788992.0000\n",
            "Epoch 94/100\n",
            "\u001b[1m28/28\u001b[0m \u001b[32m━━━━━━━━━━━━━━━━━━━━\u001b[0m\u001b[37m\u001b[0m \u001b[1m0s\u001b[0m 6ms/step - loss: 2709711749120.0000 - mean_squared_error: 2709711749120.0000 - val_loss: 4906534567936.0000 - val_mean_squared_error: 4906534567936.0000\n",
            "Epoch 95/100\n",
            "\u001b[1m28/28\u001b[0m \u001b[32m━━━━━━━━━━━━━━━━━━━━\u001b[0m\u001b[37m\u001b[0m \u001b[1m0s\u001b[0m 4ms/step - loss: 3198621581312.0000 - mean_squared_error: 3198621581312.0000 - val_loss: 5025952694272.0000 - val_mean_squared_error: 5025952694272.0000\n",
            "Epoch 96/100\n",
            "\u001b[1m28/28\u001b[0m \u001b[32m━━━━━━━━━━━━━━━━━━━━\u001b[0m\u001b[37m\u001b[0m \u001b[1m0s\u001b[0m 4ms/step - loss: 2616530567168.0000 - mean_squared_error: 2616530567168.0000 - val_loss: 5089173438464.0000 - val_mean_squared_error: 5089173438464.0000\n",
            "Epoch 97/100\n",
            "\u001b[1m28/28\u001b[0m \u001b[32m━━━━━━━━━━━━━━━━━━━━\u001b[0m\u001b[37m\u001b[0m \u001b[1m0s\u001b[0m 4ms/step - loss: 2809532514304.0000 - mean_squared_error: 2809532514304.0000 - val_loss: 4864543817728.0000 - val_mean_squared_error: 4864543817728.0000\n",
            "Epoch 98/100\n",
            "\u001b[1m28/28\u001b[0m \u001b[32m━━━━━━━━━━━━━━━━━━━━\u001b[0m\u001b[37m\u001b[0m \u001b[1m0s\u001b[0m 7ms/step - loss: 2997338243072.0000 - mean_squared_error: 2997338243072.0000 - val_loss: 5194272735232.0000 - val_mean_squared_error: 5194272735232.0000\n",
            "Epoch 99/100\n",
            "\u001b[1m28/28\u001b[0m \u001b[32m━━━━━━━━━━━━━━━━━━━━\u001b[0m\u001b[37m\u001b[0m \u001b[1m0s\u001b[0m 9ms/step - loss: 2722807414784.0000 - mean_squared_error: 2722807414784.0000 - val_loss: 4859384823808.0000 - val_mean_squared_error: 4859384823808.0000\n",
            "Epoch 100/100\n",
            "\u001b[1m28/28\u001b[0m \u001b[32m━━━━━━━━━━━━━━━━━━━━\u001b[0m\u001b[37m\u001b[0m \u001b[1m0s\u001b[0m 10ms/step - loss: 2855611924480.0000 - mean_squared_error: 2855611924480.0000 - val_loss: 5230427111424.0000 - val_mean_squared_error: 5230427111424.0000\n"
          ]
        }
      ]
    }
  ]
}