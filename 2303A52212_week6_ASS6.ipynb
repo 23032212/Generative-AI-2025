{
  "nbformat": 4,
  "nbformat_minor": 0,
  "metadata": {
    "colab": {
      "provenance": [],
      "authorship_tag": "ABX9TyOqvN+0/JZHGCIyoOh3s03J",
      "include_colab_link": true
    },
    "kernelspec": {
      "name": "python3",
      "display_name": "Python 3"
    },
    "language_info": {
      "name": "python"
    }
  },
  "cells": [
    {
      "cell_type": "markdown",
      "metadata": {
        "id": "view-in-github",
        "colab_type": "text"
      },
      "source": [
        "<a href=\"https://colab.research.google.com/github/23032212/Generative-AI-2025/blob/main/2303A52212_week6_ASS6.ipynb\" target=\"_parent\"><img src=\"https://colab.research.google.com/assets/colab-badge.svg\" alt=\"Open In Colab\"/></a>"
      ]
    },
    {
      "cell_type": "markdown",
      "source": [],
      "metadata": {
        "id": "1_dn6jorglGq"
      }
    },
    {
      "cell_type": "markdown",
      "source": [
        "1. (1 ponto) Design a multilayer ANN architecture according to the requirements shown below.\n",
        "Train, test, save (.h5) and deploy the model to predict the housing price using Keras deep\n",
        "learning library\n",
        "2. (1 ponto) Calculate training and testing error metrics\n",
        "3. (1 ponto) Build the application by loading the saved ANN model.\n",
        "Tabela 1: ANN Architecture\n",
        "Layer Neurons Activation Function\n",
        "Hidden Layer - 1 15 tanh\n",
        "Hidden Layer - 2 20 tanh\n",
        "Hidden Layer - 3 15 tanh\n",
        "Tabela 2: Training Parameters\n",
        "loss function epochs batch size error metric Optimizer\n",
        "Mean Square Error 100 16 Mean Square Error SGD\n",
        "Dataset: https://drive.google.com/file/d/1AcdENlVm5dccNyo_vgdMbneX8YVvH5R3/view?\n",
        "usp=sharing\n",
        "• Expected learning Outcomes from this assignment related to python\n",
        "– Students are able to build ANN model with python deep learning libraries\n",
        "– Students are able to deploy trained ANN model\n",
        "– Students are able to measure training and testing performance of trained model"
      ],
      "metadata": {
        "id": "9mdKyfF6eT0Q"
      }
    },
    {
      "cell_type": "code",
      "source": [
        "import pandas as pd\n",
        "from sklearn.model_selection import train_test_split\n",
        "from sklearn.preprocessing import StandardScaler\n",
        "import numpy as np\n",
        "from sklearn.preprocessing import OneHotEncoder\n",
        "\n",
        "# Load dataset (Assuming CSV format after extracting from Google Drive)\n",
        "url = '/content/Housing.csv'  # Replace this with the actual dataset path\n",
        "df = pd.read_csv(url)\n",
        "\n",
        "# Split the dataset into input features and target variable (housing prices)\n",
        "X = df.drop('price', axis=1)  # Assuming 'price' is the target variable\n",
        "y = df['price']\n",
        "\n",
        "# Split the dataset into training and testing sets\n",
        "X_train, X_test, y_train, y_test = train_test_split(X, y, test_size=0.2, random_state=42)\n",
        "\n",
        "# Identify categorical features (columns with object dtype)\n",
        "categorical_features = X_train.select_dtypes(include=['object']).columns\n",
        "\n",
        "# Create and fit OneHotEncoder for categorical features\n",
        "encoder = OneHotEncoder(sparse_output=False, handle_unknown='ignore') # sparse=False for numpy array\n",
        "encoded_features_train = encoder.fit_transform(X_train[categorical_features])\n",
        "encoded_features_test = encoder.transform(X_test[categorical_features])\n",
        "\n",
        "# Create DataFrames for encoded features\n",
        "encoded_df_train = pd.DataFrame(encoded_features_train, columns=encoder.get_feature_names_out(categorical_features), index=X_train.index)\n",
        "encoded_df_test = pd.DataFrame(encoded_features_test, columns=encoder.get_feature_names_out(categorical_features), index=X_test.index)\n",
        "\n",
        "# Drop original categorical columns and concatenate encoded features\n",
        "X_train = X_train.drop(categorical_features, axis=1)\n",
        "X_test = X_test.drop(categorical_features, axis=1)\n",
        "X_train = pd.concat([X_train, encoded_df_train], axis=1)\n",
        "X_test = pd.concat([X_test, encoded_df_test], axis=1)\n",
        "\n",
        "\n",
        "# Normalize the data\n",
        "scaler = StandardScaler()\n",
        "X_train = scaler.fit_transform(X_train)\n",
        "X_test = scaler.transform(X_test)"
      ],
      "metadata": {
        "id": "5f5k8SZxgv1K"
      },
      "execution_count": 5,
      "outputs": []
    },
    {
      "cell_type": "code",
      "source": [
        "from tensorflow.keras.models import Sequential\n",
        "from tensorflow.keras.layers import Dense\n",
        "from tensorflow.keras.optimizers import SGD\n",
        "from tensorflow.keras.metrics import MeanSquaredError\n",
        "\n",
        "# Define the ANN model\n",
        "model = Sequential()\n",
        "\n",
        "# Hidden Layer 1\n",
        "model.add(Dense(15, input_dim=X_train.shape[1], activation='tanh'))\n",
        "\n",
        "# Hidden Layer 2\n",
        "model.add(Dense(20, activation='tanh'))\n",
        "\n",
        "# Hidden Layer 3\n",
        "model.add(Dense(15, activation='tanh'))\n",
        "\n",
        "# Output layer (Assuming it's a regression problem, one neuron for price prediction)\n",
        "model.add(Dense(1))\n",
        "\n",
        "# Compile the model\n",
        "model.compile(loss='mean_squared_error',\n",
        "              optimizer=SGD(),\n",
        "              metrics=[MeanSquaredError()])\n"
      ],
      "metadata": {
        "colab": {
          "base_uri": "https://localhost:8080/"
        },
        "id": "1pWKOR_QhBtK",
        "outputId": "728e479c-553e-45cc-96ed-4f08bff5915b"
      },
      "execution_count": 6,
      "outputs": [
        {
          "output_type": "stream",
          "name": "stderr",
          "text": [
            "/usr/local/lib/python3.11/dist-packages/keras/src/layers/core/dense.py:87: UserWarning: Do not pass an `input_shape`/`input_dim` argument to a layer. When using Sequential models, prefer using an `Input(shape)` object as the first layer in the model instead.\n",
            "  super().__init__(activity_regularizer=activity_regularizer, **kwargs)\n"
          ]
        }
      ]
    },
    {
      "cell_type": "code",
      "source": [
        "# Train the model\n",
        "history = model.fit(X_train, y_train,\n",
        "                    epochs=100,\n",
        "                    batch_size=16,\n",
        "                    validation_data=(X_test, y_test))\n"
      ],
      "metadata": {
        "colab": {
          "base_uri": "https://localhost:8080/"
        },
        "id": "Np8-ohaBhFUa",
        "outputId": "cd071898-ffe1-4b08-cf5b-71c9df33cd56"
      },
      "execution_count": 7,
      "outputs": [
        {
          "output_type": "stream",
          "name": "stdout",
          "text": [
            "Epoch 1/100\n",
            "\u001b[1m28/28\u001b[0m \u001b[32m━━━━━━━━━━━━━━━━━━━━\u001b[0m\u001b[37m\u001b[0m \u001b[1m1s\u001b[0m 16ms/step - loss: 9352950841344.0000 - mean_squared_error: 9352950841344.0000 - val_loss: 4820016037888.0000 - val_mean_squared_error: 4820016037888.0000\n",
            "Epoch 2/100\n",
            "\u001b[1m28/28\u001b[0m \u001b[32m━━━━━━━━━━━━━━━━━━━━\u001b[0m\u001b[37m\u001b[0m \u001b[1m0s\u001b[0m 5ms/step - loss: 2706579128320.0000 - mean_squared_error: 2706579128320.0000 - val_loss: 4791457546240.0000 - val_mean_squared_error: 4791457546240.0000\n",
            "Epoch 3/100\n",
            "\u001b[1m28/28\u001b[0m \u001b[32m━━━━━━━━━━━━━━━━━━━━\u001b[0m\u001b[37m\u001b[0m \u001b[1m0s\u001b[0m 4ms/step - loss: 2922342252544.0000 - mean_squared_error: 2922342252544.0000 - val_loss: 4788964032512.0000 - val_mean_squared_error: 4788964032512.0000\n",
            "Epoch 4/100\n",
            "\u001b[1m28/28\u001b[0m \u001b[32m━━━━━━━━━━━━━━━━━━━━\u001b[0m\u001b[37m\u001b[0m \u001b[1m0s\u001b[0m 4ms/step - loss: 2670591475712.0000 - mean_squared_error: 2670591475712.0000 - val_loss: 4903318585344.0000 - val_mean_squared_error: 4903318585344.0000\n",
            "Epoch 5/100\n",
            "\u001b[1m28/28\u001b[0m \u001b[32m━━━━━━━━━━━━━━━━━━━━\u001b[0m\u001b[37m\u001b[0m \u001b[1m0s\u001b[0m 4ms/step - loss: 2484205256704.0000 - mean_squared_error: 2484205256704.0000 - val_loss: 4901885706240.0000 - val_mean_squared_error: 4901885706240.0000\n",
            "Epoch 6/100\n",
            "\u001b[1m28/28\u001b[0m \u001b[32m━━━━━━━━━━━━━━━━━━━━\u001b[0m\u001b[37m\u001b[0m \u001b[1m0s\u001b[0m 5ms/step - loss: 2634294231040.0000 - mean_squared_error: 2634294231040.0000 - val_loss: 4916934868992.0000 - val_mean_squared_error: 4916934868992.0000\n",
            "Epoch 7/100\n",
            "\u001b[1m28/28\u001b[0m \u001b[32m━━━━━━━━━━━━━━━━━━━━\u001b[0m\u001b[37m\u001b[0m \u001b[1m0s\u001b[0m 4ms/step - loss: 3527753859072.0000 - mean_squared_error: 3527753859072.0000 - val_loss: 5214981062656.0000 - val_mean_squared_error: 5214981062656.0000\n",
            "Epoch 8/100\n",
            "\u001b[1m28/28\u001b[0m \u001b[32m━━━━━━━━━━━━━━━━━━━━\u001b[0m\u001b[37m\u001b[0m \u001b[1m0s\u001b[0m 4ms/step - loss: 2518006628352.0000 - mean_squared_error: 2518006628352.0000 - val_loss: 4843951882240.0000 - val_mean_squared_error: 4843951882240.0000\n",
            "Epoch 9/100\n",
            "\u001b[1m28/28\u001b[0m \u001b[32m━━━━━━━━━━━━━━━━━━━━\u001b[0m\u001b[37m\u001b[0m \u001b[1m0s\u001b[0m 4ms/step - loss: 2726922027008.0000 - mean_squared_error: 2726922027008.0000 - val_loss: 4785809915904.0000 - val_mean_squared_error: 4785809915904.0000\n",
            "Epoch 10/100\n",
            "\u001b[1m28/28\u001b[0m \u001b[32m━━━━━━━━━━━━━━━━━━━━\u001b[0m\u001b[37m\u001b[0m \u001b[1m0s\u001b[0m 4ms/step - loss: 3008923172864.0000 - mean_squared_error: 3008923172864.0000 - val_loss: 5013264400384.0000 - val_mean_squared_error: 5013264400384.0000\n",
            "Epoch 11/100\n",
            "\u001b[1m28/28\u001b[0m \u001b[32m━━━━━━━━━━━━━━━━━━━━\u001b[0m\u001b[37m\u001b[0m \u001b[1m0s\u001b[0m 4ms/step - loss: 2263034363904.0000 - mean_squared_error: 2263034363904.0000 - val_loss: 4779425136640.0000 - val_mean_squared_error: 4779425136640.0000\n",
            "Epoch 12/100\n",
            "\u001b[1m28/28\u001b[0m \u001b[32m━━━━━━━━━━━━━━━━━━━━\u001b[0m\u001b[37m\u001b[0m \u001b[1m0s\u001b[0m 4ms/step - loss: 2819572367360.0000 - mean_squared_error: 2819572367360.0000 - val_loss: 4772224040960.0000 - val_mean_squared_error: 4772224040960.0000\n",
            "Epoch 13/100\n",
            "\u001b[1m28/28\u001b[0m \u001b[32m━━━━━━━━━━━━━━━━━━━━\u001b[0m\u001b[37m\u001b[0m \u001b[1m0s\u001b[0m 5ms/step - loss: 2781688889344.0000 - mean_squared_error: 2781688889344.0000 - val_loss: 4744127971328.0000 - val_mean_squared_error: 4744127971328.0000\n",
            "Epoch 14/100\n",
            "\u001b[1m28/28\u001b[0m \u001b[32m━━━━━━━━━━━━━━━━━━━━\u001b[0m\u001b[37m\u001b[0m \u001b[1m0s\u001b[0m 5ms/step - loss: 2892986318848.0000 - mean_squared_error: 2892986318848.0000 - val_loss: 5362129829888.0000 - val_mean_squared_error: 5362129829888.0000\n",
            "Epoch 15/100\n",
            "\u001b[1m28/28\u001b[0m \u001b[32m━━━━━━━━━━━━━━━━━━━━\u001b[0m\u001b[37m\u001b[0m \u001b[1m0s\u001b[0m 4ms/step - loss: 2565569249280.0000 - mean_squared_error: 2565569249280.0000 - val_loss: 4777890021376.0000 - val_mean_squared_error: 4777890021376.0000\n",
            "Epoch 16/100\n",
            "\u001b[1m28/28\u001b[0m \u001b[32m━━━━━━━━━━━━━━━━━━━━\u001b[0m\u001b[37m\u001b[0m \u001b[1m0s\u001b[0m 4ms/step - loss: 2958738325504.0000 - mean_squared_error: 2958738325504.0000 - val_loss: 4836721950720.0000 - val_mean_squared_error: 4836721950720.0000\n",
            "Epoch 17/100\n",
            "\u001b[1m28/28\u001b[0m \u001b[32m━━━━━━━━━━━━━━━━━━━━\u001b[0m\u001b[37m\u001b[0m \u001b[1m0s\u001b[0m 4ms/step - loss: 2515837648896.0000 - mean_squared_error: 2515837648896.0000 - val_loss: 4803895754752.0000 - val_mean_squared_error: 4803895754752.0000\n",
            "Epoch 18/100\n",
            "\u001b[1m28/28\u001b[0m \u001b[32m━━━━━━━━━━━━━━━━━━━━\u001b[0m\u001b[37m\u001b[0m \u001b[1m0s\u001b[0m 4ms/step - loss: 2620089696256.0000 - mean_squared_error: 2620089696256.0000 - val_loss: 4783067889664.0000 - val_mean_squared_error: 4783067889664.0000\n",
            "Epoch 19/100\n",
            "\u001b[1m28/28\u001b[0m \u001b[32m━━━━━━━━━━━━━━━━━━━━\u001b[0m\u001b[37m\u001b[0m \u001b[1m0s\u001b[0m 4ms/step - loss: 2855751909376.0000 - mean_squared_error: 2855751909376.0000 - val_loss: 5160020475904.0000 - val_mean_squared_error: 5160020475904.0000\n",
            "Epoch 20/100\n",
            "\u001b[1m28/28\u001b[0m \u001b[32m━━━━━━━━━━━━━━━━━━━━\u001b[0m\u001b[37m\u001b[0m \u001b[1m0s\u001b[0m 5ms/step - loss: 2998761684992.0000 - mean_squared_error: 2998761684992.0000 - val_loss: 4728196956160.0000 - val_mean_squared_error: 4728196956160.0000\n",
            "Epoch 21/100\n",
            "\u001b[1m28/28\u001b[0m \u001b[32m━━━━━━━━━━━━━━━━━━━━\u001b[0m\u001b[37m\u001b[0m \u001b[1m0s\u001b[0m 4ms/step - loss: 3264517767168.0000 - mean_squared_error: 3264517767168.0000 - val_loss: 4787105955840.0000 - val_mean_squared_error: 4787105955840.0000\n",
            "Epoch 22/100\n",
            "\u001b[1m28/28\u001b[0m \u001b[32m━━━━━━━━━━━━━━━━━━━━\u001b[0m\u001b[37m\u001b[0m \u001b[1m0s\u001b[0m 4ms/step - loss: 3225280839680.0000 - mean_squared_error: 3225280839680.0000 - val_loss: 4842941054976.0000 - val_mean_squared_error: 4842941054976.0000\n",
            "Epoch 23/100\n",
            "\u001b[1m28/28\u001b[0m \u001b[32m━━━━━━━━━━━━━━━━━━━━\u001b[0m\u001b[37m\u001b[0m \u001b[1m0s\u001b[0m 4ms/step - loss: 3038305058816.0000 - mean_squared_error: 3038305058816.0000 - val_loss: 4854050717696.0000 - val_mean_squared_error: 4854050717696.0000\n",
            "Epoch 24/100\n",
            "\u001b[1m28/28\u001b[0m \u001b[32m━━━━━━━━━━━━━━━━━━━━\u001b[0m\u001b[37m\u001b[0m \u001b[1m0s\u001b[0m 5ms/step - loss: 2818754215936.0000 - mean_squared_error: 2818754215936.0000 - val_loss: 4952366776320.0000 - val_mean_squared_error: 4952366776320.0000\n",
            "Epoch 25/100\n",
            "\u001b[1m28/28\u001b[0m \u001b[32m━━━━━━━━━━━━━━━━━━━━\u001b[0m\u001b[37m\u001b[0m \u001b[1m0s\u001b[0m 5ms/step - loss: 3085490454528.0000 - mean_squared_error: 3085490454528.0000 - val_loss: 4849266589696.0000 - val_mean_squared_error: 4849266589696.0000\n",
            "Epoch 26/100\n",
            "\u001b[1m28/28\u001b[0m \u001b[32m━━━━━━━━━━━━━━━━━━━━\u001b[0m\u001b[37m\u001b[0m \u001b[1m0s\u001b[0m 4ms/step - loss: 2574797504512.0000 - mean_squared_error: 2574797504512.0000 - val_loss: 4859015200768.0000 - val_mean_squared_error: 4859015200768.0000\n",
            "Epoch 27/100\n",
            "\u001b[1m28/28\u001b[0m \u001b[32m━━━━━━━━━━━━━━━━━━━━\u001b[0m\u001b[37m\u001b[0m \u001b[1m0s\u001b[0m 4ms/step - loss: 2765478690816.0000 - mean_squared_error: 2765478690816.0000 - val_loss: 4785926307840.0000 - val_mean_squared_error: 4785926307840.0000\n",
            "Epoch 28/100\n",
            "\u001b[1m28/28\u001b[0m \u001b[32m━━━━━━━━━━━━━━━━━━━━\u001b[0m\u001b[37m\u001b[0m \u001b[1m0s\u001b[0m 4ms/step - loss: 2848039370752.0000 - mean_squared_error: 2848039370752.0000 - val_loss: 4935083622400.0000 - val_mean_squared_error: 4935083622400.0000\n",
            "Epoch 29/100\n",
            "\u001b[1m28/28\u001b[0m \u001b[32m━━━━━━━━━━━━━━━━━━━━\u001b[0m\u001b[37m\u001b[0m \u001b[1m0s\u001b[0m 4ms/step - loss: 2736595140608.0000 - mean_squared_error: 2736595140608.0000 - val_loss: 5216392970240.0000 - val_mean_squared_error: 5216392970240.0000\n",
            "Epoch 30/100\n",
            "\u001b[1m28/28\u001b[0m \u001b[32m━━━━━━━━━━━━━━━━━━━━\u001b[0m\u001b[37m\u001b[0m \u001b[1m0s\u001b[0m 5ms/step - loss: 2868250148864.0000 - mean_squared_error: 2868250148864.0000 - val_loss: 4870112280576.0000 - val_mean_squared_error: 4870112280576.0000\n",
            "Epoch 31/100\n",
            "\u001b[1m28/28\u001b[0m \u001b[32m━━━━━━━━━━━━━━━━━━━━\u001b[0m\u001b[37m\u001b[0m \u001b[1m0s\u001b[0m 5ms/step - loss: 2582685417472.0000 - mean_squared_error: 2582685417472.0000 - val_loss: 4781547978752.0000 - val_mean_squared_error: 4781547978752.0000\n",
            "Epoch 32/100\n",
            "\u001b[1m28/28\u001b[0m \u001b[32m━━━━━━━━━━━━━━━━━━━━\u001b[0m\u001b[37m\u001b[0m \u001b[1m0s\u001b[0m 4ms/step - loss: 2745396625408.0000 - mean_squared_error: 2745396625408.0000 - val_loss: 4760797708288.0000 - val_mean_squared_error: 4760797708288.0000\n",
            "Epoch 33/100\n",
            "\u001b[1m28/28\u001b[0m \u001b[32m━━━━━━━━━━━━━━━━━━━━\u001b[0m\u001b[37m\u001b[0m \u001b[1m0s\u001b[0m 4ms/step - loss: 2642025119744.0000 - mean_squared_error: 2642025119744.0000 - val_loss: 4828346974208.0000 - val_mean_squared_error: 4828346974208.0000\n",
            "Epoch 34/100\n",
            "\u001b[1m28/28\u001b[0m \u001b[32m━━━━━━━━━━━━━━━━━━━━\u001b[0m\u001b[37m\u001b[0m \u001b[1m0s\u001b[0m 5ms/step - loss: 2821845680128.0000 - mean_squared_error: 2821845680128.0000 - val_loss: 4897427161088.0000 - val_mean_squared_error: 4897427161088.0000\n",
            "Epoch 35/100\n",
            "\u001b[1m28/28\u001b[0m \u001b[32m━━━━━━━━━━━━━━━━━━━━\u001b[0m\u001b[37m\u001b[0m \u001b[1m0s\u001b[0m 5ms/step - loss: 3039443288064.0000 - mean_squared_error: 3039443288064.0000 - val_loss: 4830799069184.0000 - val_mean_squared_error: 4830799069184.0000\n",
            "Epoch 36/100\n",
            "\u001b[1m28/28\u001b[0m \u001b[32m━━━━━━━━━━━━━━━━━━━━\u001b[0m\u001b[37m\u001b[0m \u001b[1m0s\u001b[0m 8ms/step - loss: 2439575502848.0000 - mean_squared_error: 2439575502848.0000 - val_loss: 5053290119168.0000 - val_mean_squared_error: 5053290119168.0000\n",
            "Epoch 37/100\n",
            "\u001b[1m28/28\u001b[0m \u001b[32m━━━━━━━━━━━━━━━━━━━━\u001b[0m\u001b[37m\u001b[0m \u001b[1m0s\u001b[0m 7ms/step - loss: 3047328841728.0000 - mean_squared_error: 3047328841728.0000 - val_loss: 4800122978304.0000 - val_mean_squared_error: 4800122978304.0000\n",
            "Epoch 38/100\n",
            "\u001b[1m28/28\u001b[0m \u001b[32m━━━━━━━━━━━━━━━━━━━━\u001b[0m\u001b[37m\u001b[0m \u001b[1m0s\u001b[0m 7ms/step - loss: 2577648320512.0000 - mean_squared_error: 2577648320512.0000 - val_loss: 4732387590144.0000 - val_mean_squared_error: 4732387590144.0000\n",
            "Epoch 39/100\n",
            "\u001b[1m28/28\u001b[0m \u001b[32m━━━━━━━━━━━━━━━━━━━━\u001b[0m\u001b[37m\u001b[0m \u001b[1m0s\u001b[0m 7ms/step - loss: 2630701023232.0000 - mean_squared_error: 2630701023232.0000 - val_loss: 5014349152256.0000 - val_mean_squared_error: 5014349152256.0000\n",
            "Epoch 40/100\n",
            "\u001b[1m28/28\u001b[0m \u001b[32m━━━━━━━━━━━━━━━━━━━━\u001b[0m\u001b[37m\u001b[0m \u001b[1m0s\u001b[0m 7ms/step - loss: 2566215172096.0000 - mean_squared_error: 2566215172096.0000 - val_loss: 4814066417664.0000 - val_mean_squared_error: 4814066417664.0000\n",
            "Epoch 41/100\n",
            "\u001b[1m28/28\u001b[0m \u001b[32m━━━━━━━━━━━━━━━━━━━━\u001b[0m\u001b[37m\u001b[0m \u001b[1m0s\u001b[0m 8ms/step - loss: 3095884201984.0000 - mean_squared_error: 3095884201984.0000 - val_loss: 4774585958400.0000 - val_mean_squared_error: 4774585958400.0000\n",
            "Epoch 42/100\n",
            "\u001b[1m28/28\u001b[0m \u001b[32m━━━━━━━━━━━━━━━━━━━━\u001b[0m\u001b[37m\u001b[0m \u001b[1m0s\u001b[0m 8ms/step - loss: 2926880489472.0000 - mean_squared_error: 2926880489472.0000 - val_loss: 4971549425664.0000 - val_mean_squared_error: 4971549425664.0000\n",
            "Epoch 43/100\n",
            "\u001b[1m28/28\u001b[0m \u001b[32m━━━━━━━━━━━━━━━━━━━━\u001b[0m\u001b[37m\u001b[0m \u001b[1m0s\u001b[0m 6ms/step - loss: 2647992041472.0000 - mean_squared_error: 2647992041472.0000 - val_loss: 4750834139136.0000 - val_mean_squared_error: 4750834139136.0000\n",
            "Epoch 44/100\n",
            "\u001b[1m28/28\u001b[0m \u001b[32m━━━━━━━━━━━━━━━━━━━━\u001b[0m\u001b[37m\u001b[0m \u001b[1m0s\u001b[0m 4ms/step - loss: 2798452211712.0000 - mean_squared_error: 2798452211712.0000 - val_loss: 4858462076928.0000 - val_mean_squared_error: 4858462076928.0000\n",
            "Epoch 45/100\n",
            "\u001b[1m28/28\u001b[0m \u001b[32m━━━━━━━━━━━━━━━━━━━━\u001b[0m\u001b[37m\u001b[0m \u001b[1m0s\u001b[0m 4ms/step - loss: 2782820827136.0000 - mean_squared_error: 2782820827136.0000 - val_loss: 4862991925248.0000 - val_mean_squared_error: 4862991925248.0000\n",
            "Epoch 46/100\n",
            "\u001b[1m28/28\u001b[0m \u001b[32m━━━━━━━━━━━━━━━━━━━━\u001b[0m\u001b[37m\u001b[0m \u001b[1m0s\u001b[0m 4ms/step - loss: 2641954078720.0000 - mean_squared_error: 2641954078720.0000 - val_loss: 4736606535680.0000 - val_mean_squared_error: 4736606535680.0000\n",
            "Epoch 47/100\n",
            "\u001b[1m28/28\u001b[0m \u001b[32m━━━━━━━━━━━━━━━━━━━━\u001b[0m\u001b[37m\u001b[0m \u001b[1m0s\u001b[0m 6ms/step - loss: 3106727526400.0000 - mean_squared_error: 3106727526400.0000 - val_loss: 4990032674816.0000 - val_mean_squared_error: 4990032674816.0000\n",
            "Epoch 48/100\n",
            "\u001b[1m28/28\u001b[0m \u001b[32m━━━━━━━━━━━━━━━━━━━━\u001b[0m\u001b[37m\u001b[0m \u001b[1m0s\u001b[0m 4ms/step - loss: 2512004055040.0000 - mean_squared_error: 2512004055040.0000 - val_loss: 4732604121088.0000 - val_mean_squared_error: 4732604121088.0000\n",
            "Epoch 49/100\n",
            "\u001b[1m28/28\u001b[0m \u001b[32m━━━━━━━━━━━━━━━━━━━━\u001b[0m\u001b[37m\u001b[0m \u001b[1m0s\u001b[0m 4ms/step - loss: 2830836695040.0000 - mean_squared_error: 2830836695040.0000 - val_loss: 5267732299776.0000 - val_mean_squared_error: 5267732299776.0000\n",
            "Epoch 50/100\n",
            "\u001b[1m28/28\u001b[0m \u001b[32m━━━━━━━━━━━━━━━━━━━━\u001b[0m\u001b[37m\u001b[0m \u001b[1m0s\u001b[0m 4ms/step - loss: 2984525430784.0000 - mean_squared_error: 2984525430784.0000 - val_loss: 4853257994240.0000 - val_mean_squared_error: 4853257994240.0000\n",
            "Epoch 51/100\n",
            "\u001b[1m28/28\u001b[0m \u001b[32m━━━━━━━━━━━━━━━━━━━━\u001b[0m\u001b[37m\u001b[0m \u001b[1m0s\u001b[0m 4ms/step - loss: 2606575124480.0000 - mean_squared_error: 2606575124480.0000 - val_loss: 4939125358592.0000 - val_mean_squared_error: 4939125358592.0000\n",
            "Epoch 52/100\n",
            "\u001b[1m28/28\u001b[0m \u001b[32m━━━━━━━━━━━━━━━━━━━━\u001b[0m\u001b[37m\u001b[0m \u001b[1m0s\u001b[0m 5ms/step - loss: 2815213961216.0000 - mean_squared_error: 2815213961216.0000 - val_loss: 4959148441600.0000 - val_mean_squared_error: 4959148441600.0000\n",
            "Epoch 53/100\n",
            "\u001b[1m28/28\u001b[0m \u001b[32m━━━━━━━━━━━━━━━━━━━━\u001b[0m\u001b[37m\u001b[0m \u001b[1m0s\u001b[0m 4ms/step - loss: 2738676301824.0000 - mean_squared_error: 2738676301824.0000 - val_loss: 4960583417856.0000 - val_mean_squared_error: 4960583417856.0000\n",
            "Epoch 54/100\n",
            "\u001b[1m28/28\u001b[0m \u001b[32m━━━━━━━━━━━━━━━━━━━━\u001b[0m\u001b[37m\u001b[0m \u001b[1m0s\u001b[0m 7ms/step - loss: 3048548073472.0000 - mean_squared_error: 3048548073472.0000 - val_loss: 4762063863808.0000 - val_mean_squared_error: 4762063863808.0000\n",
            "Epoch 55/100\n",
            "\u001b[1m28/28\u001b[0m \u001b[32m━━━━━━━━━━━━━━━━━━━━\u001b[0m\u001b[37m\u001b[0m \u001b[1m0s\u001b[0m 4ms/step - loss: 2705647206400.0000 - mean_squared_error: 2705647206400.0000 - val_loss: 4970052583424.0000 - val_mean_squared_error: 4970052583424.0000\n",
            "Epoch 56/100\n",
            "\u001b[1m28/28\u001b[0m \u001b[32m━━━━━━━━━━━━━━━━━━━━\u001b[0m\u001b[37m\u001b[0m \u001b[1m0s\u001b[0m 4ms/step - loss: 2489016647680.0000 - mean_squared_error: 2489016647680.0000 - val_loss: 4762439778304.0000 - val_mean_squared_error: 4762439778304.0000\n",
            "Epoch 57/100\n",
            "\u001b[1m28/28\u001b[0m \u001b[32m━━━━━━━━━━━━━━━━━━━━\u001b[0m\u001b[37m\u001b[0m \u001b[1m0s\u001b[0m 6ms/step - loss: 2895658876928.0000 - mean_squared_error: 2895658876928.0000 - val_loss: 4740139188224.0000 - val_mean_squared_error: 4740139188224.0000\n",
            "Epoch 58/100\n",
            "\u001b[1m28/28\u001b[0m \u001b[32m━━━━━━━━━━━━━━━━━━━━\u001b[0m\u001b[37m\u001b[0m \u001b[1m0s\u001b[0m 4ms/step - loss: 2903430660096.0000 - mean_squared_error: 2903430660096.0000 - val_loss: 4768360562688.0000 - val_mean_squared_error: 4768360562688.0000\n",
            "Epoch 59/100\n",
            "\u001b[1m28/28\u001b[0m \u001b[32m━━━━━━━━━━━━━━━━━━━━\u001b[0m\u001b[37m\u001b[0m \u001b[1m0s\u001b[0m 5ms/step - loss: 2997798305792.0000 - mean_squared_error: 2997798305792.0000 - val_loss: 4734560763904.0000 - val_mean_squared_error: 4734560763904.0000\n",
            "Epoch 60/100\n",
            "\u001b[1m28/28\u001b[0m \u001b[32m━━━━━━━━━━━━━━━━━━━━\u001b[0m\u001b[37m\u001b[0m \u001b[1m0s\u001b[0m 4ms/step - loss: 2948289265664.0000 - mean_squared_error: 2948289265664.0000 - val_loss: 5228953862144.0000 - val_mean_squared_error: 5228953862144.0000\n",
            "Epoch 61/100\n",
            "\u001b[1m28/28\u001b[0m \u001b[32m━━━━━━━━━━━━━━━━━━━━\u001b[0m\u001b[37m\u001b[0m \u001b[1m0s\u001b[0m 4ms/step - loss: 2974711545856.0000 - mean_squared_error: 2974711545856.0000 - val_loss: 4827980496896.0000 - val_mean_squared_error: 4827980496896.0000\n",
            "Epoch 62/100\n",
            "\u001b[1m28/28\u001b[0m \u001b[32m━━━━━━━━━━━━━━━━━━━━\u001b[0m\u001b[37m\u001b[0m \u001b[1m0s\u001b[0m 6ms/step - loss: 2776349016064.0000 - mean_squared_error: 2776349016064.0000 - val_loss: 4885101674496.0000 - val_mean_squared_error: 4885101674496.0000\n",
            "Epoch 63/100\n",
            "\u001b[1m28/28\u001b[0m \u001b[32m━━━━━━━━━━━━━━━━━━━━\u001b[0m\u001b[37m\u001b[0m \u001b[1m0s\u001b[0m 4ms/step - loss: 2590177230848.0000 - mean_squared_error: 2590177230848.0000 - val_loss: 5014398435328.0000 - val_mean_squared_error: 5014398435328.0000\n",
            "Epoch 64/100\n",
            "\u001b[1m28/28\u001b[0m \u001b[32m━━━━━━━━━━━━━━━━━━━━\u001b[0m\u001b[37m\u001b[0m \u001b[1m0s\u001b[0m 4ms/step - loss: 2809195921408.0000 - mean_squared_error: 2809195921408.0000 - val_loss: 5015375708160.0000 - val_mean_squared_error: 5015375708160.0000\n",
            "Epoch 65/100\n",
            "\u001b[1m28/28\u001b[0m \u001b[32m━━━━━━━━━━━━━━━━━━━━\u001b[0m\u001b[37m\u001b[0m \u001b[1m0s\u001b[0m 4ms/step - loss: 2464482852864.0000 - mean_squared_error: 2464482852864.0000 - val_loss: 4766805524480.0000 - val_mean_squared_error: 4766805524480.0000\n",
            "Epoch 66/100\n",
            "\u001b[1m28/28\u001b[0m \u001b[32m━━━━━━━━━━━━━━━━━━━━\u001b[0m\u001b[37m\u001b[0m \u001b[1m0s\u001b[0m 4ms/step - loss: 2626455339008.0000 - mean_squared_error: 2626455339008.0000 - val_loss: 4979106512896.0000 - val_mean_squared_error: 4979106512896.0000\n",
            "Epoch 67/100\n",
            "\u001b[1m28/28\u001b[0m \u001b[32m━━━━━━━━━━━━━━━━━━━━\u001b[0m\u001b[37m\u001b[0m \u001b[1m0s\u001b[0m 4ms/step - loss: 2780431646720.0000 - mean_squared_error: 2780431646720.0000 - val_loss: 4891244756992.0000 - val_mean_squared_error: 4891244756992.0000\n",
            "Epoch 68/100\n",
            "\u001b[1m28/28\u001b[0m \u001b[32m━━━━━━━━━━━━━━━━━━━━\u001b[0m\u001b[37m\u001b[0m \u001b[1m0s\u001b[0m 5ms/step - loss: 2734036877312.0000 - mean_squared_error: 2734036877312.0000 - val_loss: 4840603779072.0000 - val_mean_squared_error: 4840603779072.0000\n",
            "Epoch 69/100\n",
            "\u001b[1m28/28\u001b[0m \u001b[32m━━━━━━━━━━━━━━━━━━━━\u001b[0m\u001b[37m\u001b[0m \u001b[1m0s\u001b[0m 6ms/step - loss: 2680405622784.0000 - mean_squared_error: 2680405622784.0000 - val_loss: 5020641132544.0000 - val_mean_squared_error: 5020641132544.0000\n",
            "Epoch 70/100\n",
            "\u001b[1m28/28\u001b[0m \u001b[32m━━━━━━━━━━━━━━━━━━━━\u001b[0m\u001b[37m\u001b[0m \u001b[1m0s\u001b[0m 4ms/step - loss: 2932814905344.0000 - mean_squared_error: 2932814905344.0000 - val_loss: 5341607100416.0000 - val_mean_squared_error: 5341607100416.0000\n",
            "Epoch 71/100\n",
            "\u001b[1m28/28\u001b[0m \u001b[32m━━━━━━━━━━━━━━━━━━━━\u001b[0m\u001b[37m\u001b[0m \u001b[1m0s\u001b[0m 5ms/step - loss: 2422418440192.0000 - mean_squared_error: 2422418440192.0000 - val_loss: 4778993647616.0000 - val_mean_squared_error: 4778993647616.0000\n",
            "Epoch 72/100\n",
            "\u001b[1m28/28\u001b[0m \u001b[32m━━━━━━━━━━━━━━━━━━━━\u001b[0m\u001b[37m\u001b[0m \u001b[1m0s\u001b[0m 5ms/step - loss: 2777330221056.0000 - mean_squared_error: 2777330221056.0000 - val_loss: 4735564775424.0000 - val_mean_squared_error: 4735564775424.0000\n",
            "Epoch 73/100\n",
            "\u001b[1m28/28\u001b[0m \u001b[32m━━━━━━━━━━━━━━━━━━━━\u001b[0m\u001b[37m\u001b[0m \u001b[1m0s\u001b[0m 4ms/step - loss: 2879545147392.0000 - mean_squared_error: 2879545147392.0000 - val_loss: 4919024680960.0000 - val_mean_squared_error: 4919024680960.0000\n",
            "Epoch 74/100\n",
            "\u001b[1m28/28\u001b[0m \u001b[32m━━━━━━━━━━━━━━━━━━━━\u001b[0m\u001b[37m\u001b[0m \u001b[1m0s\u001b[0m 4ms/step - loss: 3002282803200.0000 - mean_squared_error: 3002282803200.0000 - val_loss: 4749170573312.0000 - val_mean_squared_error: 4749170573312.0000\n",
            "Epoch 75/100\n",
            "\u001b[1m28/28\u001b[0m \u001b[32m━━━━━━━━━━━━━━━━━━━━\u001b[0m\u001b[37m\u001b[0m \u001b[1m0s\u001b[0m 4ms/step - loss: 2814820220928.0000 - mean_squared_error: 2814820220928.0000 - val_loss: 4786716409856.0000 - val_mean_squared_error: 4786716409856.0000\n",
            "Epoch 76/100\n",
            "\u001b[1m28/28\u001b[0m \u001b[32m━━━━━━━━━━━━━━━━━━━━\u001b[0m\u001b[37m\u001b[0m \u001b[1m0s\u001b[0m 4ms/step - loss: 3187939213312.0000 - mean_squared_error: 3187939213312.0000 - val_loss: 4883858587648.0000 - val_mean_squared_error: 4883858587648.0000\n",
            "Epoch 77/100\n",
            "\u001b[1m28/28\u001b[0m \u001b[32m━━━━━━━━━━━━━━━━━━━━\u001b[0m\u001b[37m\u001b[0m \u001b[1m0s\u001b[0m 4ms/step - loss: 2639786409984.0000 - mean_squared_error: 2639786409984.0000 - val_loss: 4748156076032.0000 - val_mean_squared_error: 4748156076032.0000\n",
            "Epoch 78/100\n",
            "\u001b[1m28/28\u001b[0m \u001b[32m━━━━━━━━━━━━━━━━━━━━\u001b[0m\u001b[37m\u001b[0m \u001b[1m0s\u001b[0m 5ms/step - loss: 2532356128768.0000 - mean_squared_error: 2532356128768.0000 - val_loss: 5057794801664.0000 - val_mean_squared_error: 5057794801664.0000\n",
            "Epoch 79/100\n",
            "\u001b[1m28/28\u001b[0m \u001b[32m━━━━━━━━━━━━━━━━━━━━\u001b[0m\u001b[37m\u001b[0m \u001b[1m0s\u001b[0m 4ms/step - loss: 2557605052416.0000 - mean_squared_error: 2557605052416.0000 - val_loss: 4732661268480.0000 - val_mean_squared_error: 4732661268480.0000\n",
            "Epoch 80/100\n",
            "\u001b[1m28/28\u001b[0m \u001b[32m━━━━━━━━━━━━━━━━━━━━\u001b[0m\u001b[37m\u001b[0m \u001b[1m0s\u001b[0m 4ms/step - loss: 2448346316800.0000 - mean_squared_error: 2448346316800.0000 - val_loss: 5043092193280.0000 - val_mean_squared_error: 5043092193280.0000\n",
            "Epoch 81/100\n",
            "\u001b[1m28/28\u001b[0m \u001b[32m━━━━━━━━━━━━━━━━━━━━\u001b[0m\u001b[37m\u001b[0m \u001b[1m0s\u001b[0m 4ms/step - loss: 2828475564032.0000 - mean_squared_error: 2828475564032.0000 - val_loss: 5325694435328.0000 - val_mean_squared_error: 5325694435328.0000\n",
            "Epoch 82/100\n",
            "\u001b[1m28/28\u001b[0m \u001b[32m━━━━━━━━━━━━━━━━━━━━\u001b[0m\u001b[37m\u001b[0m \u001b[1m0s\u001b[0m 6ms/step - loss: 2525862297600.0000 - mean_squared_error: 2525862297600.0000 - val_loss: 4834181775360.0000 - val_mean_squared_error: 4834181775360.0000\n",
            "Epoch 83/100\n",
            "\u001b[1m28/28\u001b[0m \u001b[32m━━━━━━━━━━━━━━━━━━━━\u001b[0m\u001b[37m\u001b[0m \u001b[1m0s\u001b[0m 4ms/step - loss: 2983099105280.0000 - mean_squared_error: 2983099105280.0000 - val_loss: 4805419335680.0000 - val_mean_squared_error: 4805419335680.0000\n",
            "Epoch 84/100\n",
            "\u001b[1m28/28\u001b[0m \u001b[32m━━━━━━━━━━━━━━━━━━━━\u001b[0m\u001b[37m\u001b[0m \u001b[1m0s\u001b[0m 4ms/step - loss: 2578155307008.0000 - mean_squared_error: 2578155307008.0000 - val_loss: 4804460412928.0000 - val_mean_squared_error: 4804460412928.0000\n",
            "Epoch 85/100\n",
            "\u001b[1m28/28\u001b[0m \u001b[32m━━━━━━━━━━━━━━━━━━━━\u001b[0m\u001b[37m\u001b[0m \u001b[1m0s\u001b[0m 4ms/step - loss: 2554082623488.0000 - mean_squared_error: 2554082623488.0000 - val_loss: 4760493096960.0000 - val_mean_squared_error: 4760493096960.0000\n",
            "Epoch 86/100\n",
            "\u001b[1m28/28\u001b[0m \u001b[32m━━━━━━━━━━━━━━━━━━━━\u001b[0m\u001b[37m\u001b[0m \u001b[1m0s\u001b[0m 6ms/step - loss: 2974852841472.0000 - mean_squared_error: 2974852841472.0000 - val_loss: 4847085551616.0000 - val_mean_squared_error: 4847085551616.0000\n",
            "Epoch 87/100\n",
            "\u001b[1m28/28\u001b[0m \u001b[32m━━━━━━━━━━━━━━━━━━━━\u001b[0m\u001b[37m\u001b[0m \u001b[1m0s\u001b[0m 4ms/step - loss: 2775939284992.0000 - mean_squared_error: 2775939284992.0000 - val_loss: 5048508088320.0000 - val_mean_squared_error: 5048508088320.0000\n",
            "Epoch 88/100\n",
            "\u001b[1m28/28\u001b[0m \u001b[32m━━━━━━━━━━━━━━━━━━━━\u001b[0m\u001b[37m\u001b[0m \u001b[1m0s\u001b[0m 4ms/step - loss: 2826551427072.0000 - mean_squared_error: 2826551427072.0000 - val_loss: 4744822652928.0000 - val_mean_squared_error: 4744822652928.0000\n",
            "Epoch 89/100\n",
            "\u001b[1m28/28\u001b[0m \u001b[32m━━━━━━━━━━━━━━━━━━━━\u001b[0m\u001b[37m\u001b[0m \u001b[1m0s\u001b[0m 5ms/step - loss: 2559849005056.0000 - mean_squared_error: 2559849005056.0000 - val_loss: 4810674798592.0000 - val_mean_squared_error: 4810674798592.0000\n",
            "Epoch 90/100\n",
            "\u001b[1m28/28\u001b[0m \u001b[32m━━━━━━━━━━━━━━━━━━━━\u001b[0m\u001b[37m\u001b[0m \u001b[1m0s\u001b[0m 5ms/step - loss: 2785605320704.0000 - mean_squared_error: 2785605320704.0000 - val_loss: 4992050659328.0000 - val_mean_squared_error: 4992050659328.0000\n",
            "Epoch 91/100\n",
            "\u001b[1m28/28\u001b[0m \u001b[32m━━━━━━━━━━━━━━━━━━━━\u001b[0m\u001b[37m\u001b[0m \u001b[1m0s\u001b[0m 6ms/step - loss: 2499012198400.0000 - mean_squared_error: 2499012198400.0000 - val_loss: 4776011497472.0000 - val_mean_squared_error: 4776011497472.0000\n",
            "Epoch 92/100\n",
            "\u001b[1m28/28\u001b[0m \u001b[32m━━━━━━━━━━━━━━━━━━━━\u001b[0m\u001b[37m\u001b[0m \u001b[1m0s\u001b[0m 7ms/step - loss: 2812806692864.0000 - mean_squared_error: 2812806692864.0000 - val_loss: 4734354718720.0000 - val_mean_squared_error: 4734354718720.0000\n",
            "Epoch 93/100\n",
            "\u001b[1m28/28\u001b[0m \u001b[32m━━━━━━━━━━━━━━━━━━━━\u001b[0m\u001b[37m\u001b[0m \u001b[1m0s\u001b[0m 6ms/step - loss: 2652402352128.0000 - mean_squared_error: 2652402352128.0000 - val_loss: 4895634620416.0000 - val_mean_squared_error: 4895634620416.0000\n",
            "Epoch 94/100\n",
            "\u001b[1m28/28\u001b[0m \u001b[32m━━━━━━━━━━━━━━━━━━━━\u001b[0m\u001b[37m\u001b[0m \u001b[1m0s\u001b[0m 7ms/step - loss: 2853980340224.0000 - mean_squared_error: 2853980340224.0000 - val_loss: 4728574443520.0000 - val_mean_squared_error: 4728574443520.0000\n",
            "Epoch 95/100\n",
            "\u001b[1m28/28\u001b[0m \u001b[32m━━━━━━━━━━━━━━━━━━━━\u001b[0m\u001b[37m\u001b[0m \u001b[1m0s\u001b[0m 7ms/step - loss: 2801417322496.0000 - mean_squared_error: 2801417322496.0000 - val_loss: 4876848332800.0000 - val_mean_squared_error: 4876848332800.0000\n",
            "Epoch 96/100\n",
            "\u001b[1m28/28\u001b[0m \u001b[32m━━━━━━━━━━━━━━━━━━━━\u001b[0m\u001b[37m\u001b[0m \u001b[1m0s\u001b[0m 7ms/step - loss: 2752770211840.0000 - mean_squared_error: 2752770211840.0000 - val_loss: 4857945653248.0000 - val_mean_squared_error: 4857945653248.0000\n",
            "Epoch 97/100\n",
            "\u001b[1m28/28\u001b[0m \u001b[32m━━━━━━━━━━━━━━━━━━━━\u001b[0m\u001b[37m\u001b[0m \u001b[1m0s\u001b[0m 8ms/step - loss: 2753902411776.0000 - mean_squared_error: 2753902411776.0000 - val_loss: 4819661619200.0000 - val_mean_squared_error: 4819661619200.0000\n",
            "Epoch 98/100\n",
            "\u001b[1m28/28\u001b[0m \u001b[32m━━━━━━━━━━━━━━━━━━━━\u001b[0m\u001b[37m\u001b[0m \u001b[1m0s\u001b[0m 8ms/step - loss: 2662162759680.0000 - mean_squared_error: 2662162759680.0000 - val_loss: 4856044584960.0000 - val_mean_squared_error: 4856044584960.0000\n",
            "Epoch 99/100\n",
            "\u001b[1m28/28\u001b[0m \u001b[32m━━━━━━━━━━━━━━━━━━━━\u001b[0m\u001b[37m\u001b[0m \u001b[1m0s\u001b[0m 5ms/step - loss: 2749813751808.0000 - mean_squared_error: 2749813751808.0000 - val_loss: 4977992400896.0000 - val_mean_squared_error: 4977992400896.0000\n",
            "Epoch 100/100\n",
            "\u001b[1m28/28\u001b[0m \u001b[32m━━━━━━━━━━━━━━━━━━━━\u001b[0m\u001b[37m\u001b[0m \u001b[1m0s\u001b[0m 4ms/step - loss: 2509473054720.0000 - mean_squared_error: 2509473054720.0000 - val_loss: 4777076850688.0000 - val_mean_squared_error: 4777076850688.0000\n"
          ]
        }
      ]
    },
    {
      "cell_type": "code",
      "source": [
        "# Calculate the training error\n",
        "train_loss, train_mse = model.evaluate(X_train, y_train)\n",
        "print(f\"Training MSE: {train_mse}\")\n",
        "\n",
        "# Calculate the testing error\n",
        "test_loss, test_mse = model.evaluate(X_test, y_test)\n",
        "print(f\"Testing MSE: {test_mse}\")\n"
      ],
      "metadata": {
        "colab": {
          "base_uri": "https://localhost:8080/"
        },
        "id": "NPzPKyIXhN2T",
        "outputId": "be042136-b1e4-48a0-f976-d3c822b714d1"
      },
      "execution_count": 8,
      "outputs": [
        {
          "output_type": "stream",
          "name": "stdout",
          "text": [
            "\u001b[1m14/14\u001b[0m \u001b[32m━━━━━━━━━━━━━━━━━━━━\u001b[0m\u001b[37m\u001b[0m \u001b[1m0s\u001b[0m 3ms/step - loss: 2763996528640.0000 - mean_squared_error: 2763996528640.0000 \n",
            "Training MSE: 2701760397312.0\n",
            "\u001b[1m4/4\u001b[0m \u001b[32m━━━━━━━━━━━━━━━━━━━━\u001b[0m\u001b[37m\u001b[0m \u001b[1m0s\u001b[0m 8ms/step - loss: 4999963738112.0000 - mean_squared_error: 4999963738112.0000 \n",
            "Testing MSE: 4777076850688.0\n"
          ]
        }
      ]
    },
    {
      "cell_type": "code",
      "source": [
        "# Save the trained model\n",
        "model.save('housing_price_model.h5')\n"
      ],
      "metadata": {
        "colab": {
          "base_uri": "https://localhost:8080/"
        },
        "id": "oAO6aqoUhQOy",
        "outputId": "83fd50df-212a-4ae7-aace-77fbaeb62612"
      },
      "execution_count": 9,
      "outputs": [
        {
          "output_type": "stream",
          "name": "stderr",
          "text": [
            "WARNING:absl:You are saving your model as an HDF5 file via `model.save()` or `keras.saving.save_model(model)`. This file format is considered legacy. We recommend using instead the native Keras format, e.g. `model.save('my_model.keras')` or `keras.saving.save_model(model, 'my_model.keras')`. \n"
          ]
        }
      ]
    },
    {
      "cell_type": "code",
      "source": [
        "from tensorflow.keras.models import load_model\n",
        "\n",
        "# Load the saved model\n",
        "loaded_model = load_model('housing_price_model.h5')\n",
        "\n",
        "# Make predictions on the test data\n",
        "predictions = loaded_model.predict(X_test)\n",
        "\n",
        "# Example: Compare predictions with actual values\n",
        "for actual, predicted in zip(y_test[:10], predictions[:10]):\n",
        "    print(f\"Actual: {actual}, Predicted: {predicted[0]}\")\n"
      ],
      "metadata": {
        "colab": {
          "base_uri": "https://localhost:8080/"
        },
        "id": "Uq1JBnoehTQy",
        "outputId": "815b6d08-1950-4cef-f9cf-b5e25fb168f0"
      },
      "execution_count": 10,
      "outputs": [
        {
          "output_type": "stream",
          "name": "stderr",
          "text": [
            "WARNING:absl:Compiled the loaded model, but the compiled metrics have yet to be built. `model.compile_metrics` will be empty until you train or evaluate the model.\n"
          ]
        },
        {
          "output_type": "stream",
          "name": "stdout",
          "text": [
            "\u001b[1m4/4\u001b[0m \u001b[32m━━━━━━━━━━━━━━━━━━━━\u001b[0m\u001b[37m\u001b[0m \u001b[1m0s\u001b[0m 25ms/step\n",
            "Actual: 4060000, Predicted: 5033350.5\n",
            "Actual: 6650000, Predicted: 5033350.5\n",
            "Actual: 3710000, Predicted: 5033350.5\n",
            "Actual: 6440000, Predicted: 5033350.5\n",
            "Actual: 2800000, Predicted: 5033350.5\n",
            "Actual: 4900000, Predicted: 4028064.5\n",
            "Actual: 5250000, Predicted: 5033350.5\n",
            "Actual: 4543000, Predicted: 5033350.5\n",
            "Actual: 2450000, Predicted: 3597612.0\n",
            "Actual: 3353000, Predicted: 5033350.5\n"
          ]
        }
      ]
    }
  ]
}